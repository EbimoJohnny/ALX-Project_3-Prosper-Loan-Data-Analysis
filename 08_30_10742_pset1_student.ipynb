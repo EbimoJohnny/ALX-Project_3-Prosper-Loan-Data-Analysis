{
  "nbformat": 4,
  "nbformat_minor": 0,
  "metadata": {
    "colab": {
      "provenance": [],
      "include_colab_link": true
    },
    "kernelspec": {
      "name": "python3",
      "display_name": "Python 3"
    },
    "language_info": {
      "name": "python"
    }
  },
  "cells": [
    {
      "cell_type": "markdown",
      "metadata": {
        "id": "view-in-github",
        "colab_type": "text"
      },
      "source": [
        "<a href=\"https://colab.research.google.com/github/EbimoJohnny/ALX-Project_3-Prosper-Loan-Data-Analysis/blob/main/08_30_10742_pset1_student.ipynb\" target=\"_parent\"><img src=\"https://colab.research.google.com/assets/colab-badge.svg\" alt=\"Open In Colab\"/></a>"
      ]
    },
    {
      "cell_type": "markdown",
      "source": [
        "# CMU 10-742 (Fall 2024) - Machine Learning in Healthcare\n",
        "\n",
        "## Assignment 1: Healthcare Data, Codes, APIs...and Bayesian Inference\n",
        "\n",
        "Out: Thur Aug 29 2024\n",
        "\n",
        "Due: Thurs Sep 12 2024\n",
        "\n",
        "_This assignment counts for 8 points out of the 35 total points allocated to the course problem sets._"
      ],
      "metadata": {
        "id": "KwYrRPjbDJT1"
      }
    },
    {
      "cell_type": "markdown",
      "source": [
        "In this assignment, we’re going to get familiar with a few popular healthcare datasets, codesets, and APIs. We'll do some [EDA](https://www.itl.nist.gov/div898/handbook/eda/section1/eda11.htm) (exploratory data analysis) on a few popular datasets. We'll investigate the discrepancy between how much  male and female providers make. And we'll get our feet wet with Bayesian inference for clinical diagnosis.  \n",
        "\n",
        "Notes for this and subsequent assignments:\n",
        "\n",
        "* Make a copy of this colab notebook and provide your code/answers in the marked sections. To hand in your assignment, download the `.ipynb` file and submit it via the course Canvas site.\n",
        "\n",
        "* You must only hand it one file - do not decompose your questions into multiple notebooks.\n",
        "\n",
        "* We assume you have all necessary libraries already installed in your colab environment. If you get a runtime error from colab about an unrecognized import, just install it, e.g. `!pip install numpy.`\n",
        "\n",
        "* Refer to the [course syllabus](https://adamleeberger.github.io/10742/) for detailed policies on collaboration, using external tools, late policy, etc. Your assignment will be considered on time if the last revision to the notebook is before the assignment deadline.\n",
        "\n",
        "* The datasets live on various GCP buckets. We've configured these buckets to allow read access from all CMU accounts. Of course, you must be authenticated to your CMU account. We have included (in a cell below) the required code to authenticate this notebook to your CMU account.  \n",
        "\n",
        "* Show your work. In some cases, this means clear, documented source code. In other cases, it means showing how you arrived at a numeric answer.\n",
        "\n",
        "* To receive full credit for a problem, your solution must be correct and intuitive and succinct.  Reproducability is critical in ML research, and we expect your code to be clean and well documented.  \n",
        "\n",
        "* Do not store your answers anywhere that others can easily access them. Your answers should not be accessible from the public internet, or any file system or cloud repository where other students (today or in the future) may be able to access them."
      ],
      "metadata": {
        "id": "-qOBcVpAGGRZ"
      }
    },
    {
      "cell_type": "code",
      "source": [
        "# Some preliminaries\n",
        "import locale\n",
        "import pandas as pd\n",
        "\n",
        "locale.setlocale(locale.LC_ALL, '')\n",
        "from google.colab import auth\n",
        "auth.authenticate_user()"
      ],
      "metadata": {
        "id": "P27TtTbEYlrc"
      },
      "execution_count": null,
      "outputs": []
    },
    {
      "cell_type": "markdown",
      "source": [
        "#PART 1: Handling healthcare data (1 point)\n",
        "\n",
        "In this section, we will validate and  reinforce your understanding of [Physionet's data use agreement](https://physionet.org/content/mimiciii/view-license/1.4/), which covers MIMIC and other datasets."
      ],
      "metadata": {
        "id": "OXNfTJfpDVqE"
      }
    },
    {
      "cell_type": "markdown",
      "source": [
        "#1.1\n",
        "\n",
        "Gabriela and Eli are working on their class project, which involves MIMIC data. They want to use a shared folder on CMU’s Andrew Cluster. By default, files in this folder are readable by other CMU account holders. Would this violate any policies from MIMIC? If so, what precautions, if any, could Gabriela and Eli take to fix these violations? Answer in 1-2 sentences."
      ],
      "metadata": {
        "id": "dFEnWUXBDiNV"
      }
    },
    {
      "cell_type": "markdown",
      "source": [
        "**YOUR ANSWER HERE**"
      ],
      "metadata": {
        "id": "XtP73AE3k13N"
      }
    },
    {
      "cell_type": "markdown",
      "source": [
        "This would be violating the second and third policy outlined in the data use agreement, which of which Gabriela and Eli have already agreeed to. Some of the precautions that have to be taken include ensuring that the restrict the data access to only themselve who have the approval to handle the data, that is the both of them."
      ],
      "metadata": {
        "id": "Tjdu6WUTsAaB"
      }
    },
    {
      "cell_type": "markdown",
      "source": [
        "#1.2\n",
        "\n",
        "Eric is lazy. He doesn’t want to do the homework, so he copy-pastes notes from MIMIC into ChatGPT to answer a homework question. Would this violate any policies from MIMIC? If so, what precautions, if any, could he take to fix these violations? Answer in 1-2 sentences. (Hint: you may wish to review [this](https://physionet.org/news/post/gpt-responsible-use))"
      ],
      "metadata": {
        "id": "7t-bhDNlDm16"
      }
    },
    {
      "cell_type": "markdown",
      "source": [
        "**YOUR ANSWER HERE**"
      ],
      "metadata": {
        "id": "V9DEpb7olRQe"
      }
    },
    {
      "cell_type": "markdown",
      "source": [
        "This will be vioating the data use agreement, because ChatGPT is considered as a third party as it does not have data sharing protection for senstive data. If Eric must use any generative AI tool(such as amazon Bedrock, Google Gemini via Vertex AI or Azure OpenAI service), he must use the ones that have data sharing opt-out options so that the data does is not included in the training data for that model."
      ],
      "metadata": {
        "id": "Y8QglhF3uK1Z"
      }
    },
    {
      "cell_type": "markdown",
      "source": [
        "#PART 2: Playing with FHIR (2 points)\n",
        "\n",
        "FHIR is a government-supported healthcare API that is becoming an industry standard for exchanging healthcare data.  This set of questions will familiarize you with FHIR.  For this set of questions, we rely on a publicly available FHIR server, called HAPI FHIR. This server contains a collection of synthetic patient data.\n",
        "\n",
        "Before jumping into these questions, we recommend skimming the following:\n",
        "\n",
        "<https://fhir-drills.github.io/index.html>: a helpful intro to the FHIR API.  \n",
        "\n",
        "<https://www.hl7.org/fhir/references.html>: the authoritative online reference.\n",
        "\n",
        "<https://build.fhir.org/resourcelist.html>: list of resources; refer back to this as you go through these questions.\n"
      ],
      "metadata": {
        "id": "VSCQU4J9EBIF"
      }
    },
    {
      "cell_type": "markdown",
      "source": [
        "We have set up a custom FHIR server on Google Cloud that you have access to, ***provided you are signed into your CMU Andrew account***. The following code blocks set up the necessary project and authentication configurations such that you will be able to easily access this server, which contains the patient data that you will need to complete this question."
      ],
      "metadata": {
        "id": "LhsFlt7pBtwA"
      }
    },
    {
      "cell_type": "code",
      "source": [
        "!gcloud config set project fhir-10742\n",
        "import subprocess\n",
        "token = subprocess.check_output([\"gcloud\", \"auth\", \"print-access-token\"]).strip().decode('utf-8')\n",
        "\n",
        "headers = {\n",
        "    \"Authorization\": f\"Bearer {token}\",\n",
        "}\n",
        "\n",
        "base_url = \"http://hapi.fhir.org/baseR4\""
      ],
      "metadata": {
        "id": "sNJkXeO7Betm",
        "colab": {
          "base_uri": "https://localhost:8080/"
        },
        "outputId": "d38a95d8-1d11-4686-dda9-2d875567ba6d"
      },
      "execution_count": null,
      "outputs": [
        {
          "output_type": "stream",
          "name": "stdout",
          "text": [
            "\u001b[1;33mWARNING:\u001b[0m [sjohnny@andrew.cmu.edu] does not have permission to access projects instance [fhir-10742] (or it may not exist): The caller does not have permission. This command is authenticated as sjohnny@andrew.cmu.edu which is the active account specified by the [core/account] property\n",
            "Are you sure you wish to set property [core/project] to fhir-10742?\n",
            "\n",
            "Do you want to continue (Y/n)?  Y\n",
            "\n",
            "Updated property [core/project].\n"
          ]
        }
      ]
    },
    {
      "cell_type": "code",
      "source": [
        "base_url = \"http://hapi.fhir.org/baseR4\""
      ],
      "metadata": {
        "id": "iombgc5LmQxU"
      },
      "execution_count": null,
      "outputs": []
    },
    {
      "cell_type": "code",
      "execution_count": null,
      "metadata": {
        "id": "137T0SYZ-370"
      },
      "outputs": [],
      "source": [
        "base_url = \"https://healthcare.googleapis.com/v1/projects/fhir-10742/locations/us-central1/datasets/fhir-dataset/fhirStores/fhir-10742-store/fhir\""
      ]
    },
    {
      "cell_type": "markdown",
      "source": [
        "If you would prefer to work with the data directly on the public FHIR server, you may replace the base_url above with \"http://hapi.fhir.org/baseR4\". However, note that this server has known accessibility issues, particularly with high user traffic volumes, and so you are encouraged to interact with the custom server provided, private to CMU-affiliated students.\n",
        "\n"
      ],
      "metadata": {
        "id": "pViJdPs6CSy4"
      }
    },
    {
      "cell_type": "markdown",
      "source": [
        "#2.1\n",
        "\n",
        "For patient ID `9312817`, how many medications were prescribed? List all these medications (e.g. `Clopidogrel 75 MG Oral Tablet`), along with the date of prescription.\n",
        "\n",
        "Based just on this list of medications, can you surmise what is the likely medical condition for this patient?"
      ],
      "metadata": {
        "id": "d6TCxVjTge60"
      }
    },
    {
      "cell_type": "code",
      "source": [
        "patient_id = '9312817'"
      ],
      "metadata": {
        "id": "QAeCfh_pYiio"
      },
      "execution_count": null,
      "outputs": []
    },
    {
      "cell_type": "markdown",
      "source": [
        "**YOUR ANSWER HERE**"
      ],
      "metadata": {
        "id": "uO9-Ow-xBcOl"
      }
    },
    {
      "cell_type": "code",
      "source": [
        "import requests\n",
        "\n",
        "response = requests.get(f\"{base_url}/Patient/{patient_id}\", headers=headers)\n",
        "\n",
        "if response.status_code == 200:\n",
        "    print(response.json())\n",
        "else:\n",
        "    print(f\"Error: {response.status_code} - {response.text}\")\n"
      ],
      "metadata": {
        "colab": {
          "base_uri": "https://localhost:8080/"
        },
        "id": "ZgxLFxgTnBRE",
        "outputId": "e845ca1a-4e80-46d2-9aa3-cc105ed00dab"
      },
      "execution_count": null,
      "outputs": [
        {
          "output_type": "stream",
          "name": "stdout",
          "text": [
            "{'address': [{'city': 'Boston', 'country': 'US', 'extension': [{'extension': [{'url': 'latitude', 'valueDecimal': 42.354522053537174}, {'url': 'longitude', 'valueDecimal': -71.00212527489367}], 'url': 'http://hl7.org/fhir/StructureDefinition/geolocation'}], 'line': ['363 Swift Extension'], 'postalCode': '02108', 'state': 'Massachusetts'}], 'birthDate': '1957-05-21', 'communication': [{'language': {'coding': [{'code': 'en-US', 'display': 'English', 'system': 'urn:ietf:bcp:47'}], 'text': 'English'}}], 'extension': [{'extension': [{'url': 'ombCategory', 'valueCoding': {'code': '2135-2', 'display': 'Other', 'system': 'urn:oid:2.16.840.1.113883.6.238'}}, {'url': 'text', 'valueString': 'Other'}], 'url': 'http://hl7.org/fhir/us/core/StructureDefinition/us-core-race'}, {'extension': [{'url': 'ombCategory', 'valueCoding': {'code': '2186-5', 'display': 'Not Hispanic or Latino', 'system': 'urn:oid:2.16.840.1.113883.6.238'}}, {'url': 'text', 'valueString': 'Not Hispanic or Latino'}], 'url': 'http://hl7.org/fhir/us/core/StructureDefinition/us-core-ethnicity'}, {'url': 'http://hl7.org/fhir/StructureDefinition/patient-mothersMaidenName', 'valueString': 'Sybil495 Stanton715'}, {'url': 'http://hl7.org/fhir/us/core/StructureDefinition/us-core-birthsex', 'valueCode': 'F'}, {'url': 'http://hl7.org/fhir/StructureDefinition/patient-birthPlace', 'valueAddress': {'city': 'Melrose', 'country': 'US', 'state': 'Massachusetts'}}, {'url': 'http://synthetichealth.github.io/synthea/disability-adjusted-life-years', 'valueDecimal': 9.689705202207499}, {'url': 'http://synthetichealth.github.io/synthea/quality-adjusted-life-years', 'valueDecimal': 51.3102947977925}], 'gender': 'female', 'id': '9312817', 'identifier': [{'system': 'https://github.com/synthetichealth/synthea', 'value': '2d3b21e7-11ef-4dd4-9842-ddac21402a35'}, {'system': 'http://hospital.smarthealthit.org', 'type': {'coding': [{'code': 'MR', 'display': 'Medical Record Number', 'system': 'http://terminology.hl7.org/CodeSystem/v2-0203'}], 'text': 'Medical Record Number'}, 'value': '2d3b21e7-11ef-4dd4-9842-ddac21402a35'}, {'system': 'http://hl7.org/fhir/sid/us-ssn', 'type': {'coding': [{'code': 'SS', 'display': 'Social Security Number', 'system': 'http://terminology.hl7.org/CodeSystem/v2-0203'}], 'text': 'Social Security Number'}, 'value': '999-10-2029'}, {'system': 'urn:oid:2.16.840.1.113883.4.3.25', 'type': {'coding': [{'code': 'DL', 'display': \"Driver's License\", 'system': 'http://terminology.hl7.org/CodeSystem/v2-0203'}], 'text': \"Driver's License\"}, 'value': 'S99976831'}, {'system': 'http://standardhealthrecord.org/fhir/StructureDefinition/passportNumber', 'type': {'coding': [{'code': 'PPN', 'display': 'Passport Number', 'system': 'http://terminology.hl7.org/CodeSystem/v2-0203'}], 'text': 'Passport Number'}, 'value': 'X76847017X'}], 'maritalStatus': {'coding': [{'code': 'M', 'display': 'M', 'system': 'http://terminology.hl7.org/CodeSystem/v3-MaritalStatus'}], 'text': 'M'}, 'meta': {'lastUpdated': '2024-09-05T22:02:16.217731+00:00', 'source': '#Dr86qOlCtVFkMDGG', 'versionId': 'MTcyNTU3MzczNjIxNzczMTAwMA'}, 'multipleBirthBoolean': False, 'name': [{'family': 'Kilback373', 'given': ['Antonia30'], 'prefix': ['Mrs.'], 'use': 'official'}, {'family': 'Sanford861', 'given': ['Antonia30'], 'prefix': ['Mrs.'], 'use': 'maiden'}], 'resourceType': 'Patient', 'telecom': [{'system': 'phone', 'use': 'home', 'value': '555-564-5370'}], 'text': {'div': '<div>Patient 9312817</div>', 'status': 'generated'}}\n"
          ]
        }
      ]
    },
    {
      "cell_type": "code",
      "source": [
        "import requests\n",
        "from tabulate import tabulate\n",
        "\n",
        "response = requests.get(f\"{base_url}/MedicationRequest?patient={patient_id}\", headers=headers)\n",
        "\n",
        "drugs = []\n",
        "\n",
        "if response.status_code == 200:\n",
        "    medications = response.json().get('entry', [])\n",
        "\n",
        "    for entry in medications:\n",
        "        resource = entry.get('resource', {})\n",
        "\n",
        "        medication_request_intent = resource.get('intent')\n",
        "        medication_name = resource.get('medicationCodeableConcept', {}).get('text')\n",
        "        prescription_date = resource.get('authoredOn')\n",
        "        supporting_info = resource.get('supportingInformation', [])\n",
        "        reason_code = resource.get('reasonCode', [{}])[0].get('text', 'NaN')\n",
        "\n",
        "        if supporting_info:\n",
        "            print(\"Supporting Information References:\")\n",
        "            for info in supporting_info:\n",
        "                print(f\" - Reference: {info.get('reference')}\")\n",
        "\n",
        "        # Append the medication and its details to the 'drugs' list\n",
        "        drugs.append([medication_name, prescription_date, medication_request_intent, reason_code])\n",
        "else:\n",
        "    print(f\"Failed to retrieve medications: {response.status_code} - {response.text}\")\n",
        "\n",
        "table = tabulate(drugs, headers=['Drug', 'Date', 'Intent', 'Reason'], tablefmt='grid')\n",
        "\n"
      ],
      "metadata": {
        "id": "r-DuhZMoet6B"
      },
      "execution_count": null,
      "outputs": []
    },
    {
      "cell_type": "markdown",
      "source": [
        "**I can surmise that this patient had high blood cholerole this is based on historic prescriptions.**\n",
        "\n"
      ],
      "metadata": {
        "id": "t_SYHi-Uh_fA"
      }
    },
    {
      "cell_type": "markdown",
      "source": [
        "#2.2\n",
        "\n",
        "For this same patient, how many observations were made? List all these observations."
      ],
      "metadata": {
        "id": "wCxX_OcDglwO"
      }
    },
    {
      "cell_type": "markdown",
      "source": [
        "**YOUR ANSWER HERE**"
      ],
      "metadata": {
        "id": "JIAgDuraBeAN"
      }
    },
    {
      "cell_type": "code",
      "source": [
        "med_count = {}\n",
        "\n",
        "for med in drugs:\n",
        "    medication_list = [m.strip() for m in med[0].split('/')]# if '/' is in a medication then we seperate so we have the drugs seperated.\n",
        "\n",
        "    for medication_name in medication_list:\n",
        "        if medication_name in med_count:\n",
        "            med_count[medication_name] += 1\n",
        "        else:\n",
        "            med_count[medication_name] = 1\n",
        "\n",
        "print(table)\n",
        "\n"
      ],
      "metadata": {
        "colab": {
          "base_uri": "https://localhost:8080/"
        },
        "id": "CifUPZeJjoeR",
        "outputId": "a623f6d6-393f-457b-d63b-a6329b861a7e"
      },
      "execution_count": null,
      "outputs": [
        {
          "output_type": "stream",
          "name": "stdout",
          "text": [
            "+-------------------------------------------------------------------------------------------------------------------+---------------------------+----------+----------+\n",
            "| Drug                                                                                                              | Date                      | Intent   |   Reason |\n",
            "+===================================================================================================================+===========================+==========+==========+\n",
            "| Simvistatin 10 MG                                                                                                 | 2005-06-20T04:26:51-04:00 | order    |      nan |\n",
            "+-------------------------------------------------------------------------------------------------------------------+---------------------------+----------+----------+\n",
            "| Simvistatin 10 MG                                                                                                 | 2010-06-19T04:26:51-04:00 | order    |      nan |\n",
            "+-------------------------------------------------------------------------------------------------------------------+---------------------------+----------+----------+\n",
            "| diphenhydrAMINE Hydrochloride 25 MG Oral Tablet                                                                   | 1962-06-10T04:26:51-04:00 | order    |      nan |\n",
            "+-------------------------------------------------------------------------------------------------------------------+---------------------------+----------+----------+\n",
            "| Simvistatin 10 MG                                                                                                 | 2007-06-20T04:26:51-04:00 | order    |      nan |\n",
            "+-------------------------------------------------------------------------------------------------------------------+---------------------------+----------+----------+\n",
            "| Simvistatin 10 MG                                                                                                 | 2008-06-19T04:26:51-04:00 | order    |      nan |\n",
            "+-------------------------------------------------------------------------------------------------------------------+---------------------------+----------+----------+\n",
            "| Simvistatin 10 MG                                                                                                 | 2002-06-21T04:26:51-04:00 | order    |      nan |\n",
            "+-------------------------------------------------------------------------------------------------------------------+---------------------------+----------+----------+\n",
            "| Simvistatin 10 MG                                                                                                 | 2012-06-18T04:26:51-04:00 | order    |      nan |\n",
            "+-------------------------------------------------------------------------------------------------------------------+---------------------------+----------+----------+\n",
            "| Simvistatin 10 MG                                                                                                 | 2009-06-19T04:26:51-04:00 | order    |      nan |\n",
            "+-------------------------------------------------------------------------------------------------------------------+---------------------------+----------+----------+\n",
            "| Simvistatin 10 MG                                                                                                 | 2013-06-18T04:26:51-04:00 | order    |      nan |\n",
            "+-------------------------------------------------------------------------------------------------------------------+---------------------------+----------+----------+\n",
            "| Hydrochlorothiazide 25 MG                                                                                         | 1975-07-15T04:26:51-04:00 | order    |      nan |\n",
            "+-------------------------------------------------------------------------------------------------------------------+---------------------------+----------+----------+\n",
            "| Simvistatin 10 MG                                                                                                 | 2000-06-21T04:26:51-04:00 | order    |      nan |\n",
            "+-------------------------------------------------------------------------------------------------------------------+---------------------------+----------+----------+\n",
            "| Simvistatin 10 MG                                                                                                 | 2004-06-20T04:26:51-04:00 | order    |      nan |\n",
            "+-------------------------------------------------------------------------------------------------------------------+---------------------------+----------+----------+\n",
            "| Simvistatin 10 MG                                                                                                 | 2003-06-21T04:26:51-04:00 | order    |      nan |\n",
            "+-------------------------------------------------------------------------------------------------------------------+---------------------------+----------+----------+\n",
            "| Simvistatin 10 MG                                                                                                 | 2011-06-19T04:26:51-04:00 | order    |      nan |\n",
            "+-------------------------------------------------------------------------------------------------------------------+---------------------------+----------+----------+\n",
            "| Amoxicillin 250 MG / Clavulanate 125 MG Oral Tablet                                                               | 2012-07-13T04:26:51-04:00 | order    |      nan |\n",
            "+-------------------------------------------------------------------------------------------------------------------+---------------------------+----------+----------+\n",
            "| Simvistatin 10 MG                                                                                                 | 1999-06-22T04:26:51-04:00 | order    |      nan |\n",
            "+-------------------------------------------------------------------------------------------------------------------+---------------------------+----------+----------+\n",
            "| Simvistatin 10 MG                                                                                                 | 2001-06-21T04:26:51-04:00 | order    |      nan |\n",
            "+-------------------------------------------------------------------------------------------------------------------+---------------------------+----------+----------+\n",
            "| Simvistatin 10 MG                                                                                                 | 2006-06-20T04:26:51-04:00 | order    |      nan |\n",
            "+-------------------------------------------------------------------------------------------------------------------+---------------------------+----------+----------+\n",
            "| Simvistatin 10 MG                                                                                                 | 2014-06-18T04:26:51-04:00 | order    |      nan |\n",
            "+-------------------------------------------------------------------------------------------------------------------+---------------------------+----------+----------+\n",
            "| Acetaminophen 21.7 MG/ML / Dextromethorphan Hydrobromide 1 MG/ML / doxylamine succinate 0.417 MG/ML Oral Solution | 2013-01-06T03:26:51-05:00 | order    |      nan |\n",
            "+-------------------------------------------------------------------------------------------------------------------+---------------------------+----------+----------+\n"
          ]
        }
      ]
    },
    {
      "cell_type": "markdown",
      "source": [
        "**There are about 20 observation of that patient visit to the hospital and getting medications**"
      ],
      "metadata": {
        "id": "jgqRVkbX0zkS"
      }
    },
    {
      "cell_type": "code",
      "source": [
        "# Obervations for each of the drug\n",
        "for medication_name, count in med_count.items():\n",
        "    print(f'Drug: {medication_name} observed {count} times')\n"
      ],
      "metadata": {
        "colab": {
          "base_uri": "https://localhost:8080/"
        },
        "id": "fAo2P9N0nugD",
        "outputId": "90d79c1f-3502-4ffc-e73c-f190f2ef92d2"
      },
      "execution_count": null,
      "outputs": [
        {
          "output_type": "stream",
          "name": "stdout",
          "text": [
            "Drug: Simvistatin 10 MG observed 16 times\n",
            "Drug: diphenhydrAMINE Hydrochloride 25 MG Oral Tablet observed 1 times\n",
            "Drug: Hydrochlorothiazide 25 MG observed 1 times\n",
            "Drug: Amoxicillin 250 MG observed 1 times\n",
            "Drug: Clavulanate 125 MG Oral Tablet observed 1 times\n",
            "Drug: Acetaminophen 21.7 MG observed 1 times\n",
            "Drug: ML observed 2 times\n",
            "Drug: Dextromethorphan Hydrobromide 1 MG observed 1 times\n",
            "Drug: doxylamine succinate 0.417 MG observed 1 times\n",
            "Drug: ML Oral Solution observed 1 times\n"
          ]
        }
      ]
    },
    {
      "cell_type": "markdown",
      "source": [
        "#2.3\n",
        "\n",
        "Plot the glucose values over time for this patient. Note that the LOINC code for glucose is `2339-0`, so your FHIR query should look something like:\n",
        "\n",
        " `query_url = {base_url}/Observation?code=2339-0&patient={patient_id}`\n",
        "\n",
        " Two consecutive readings above 125 mg/DL is suggestive of diabetes. Does this patient appear to be diabetic, based only on the reported glucose levels?"
      ],
      "metadata": {
        "id": "mwwatqo4s77H"
      }
    },
    {
      "cell_type": "markdown",
      "source": [
        "**YOUR ANSWER HERE**"
      ],
      "metadata": {
        "id": "oNiGDQC6BgCh"
      }
    },
    {
      "cell_type": "code",
      "source": [
        "# query_url = {base_url}/Observation?code=2339-0&patient={patient_id}\n",
        "\n",
        "response = requests.get(f\"{base_url}/Observation?code=2339-0&patient={patient_id}\", headers=headers)\n",
        "# print(response.json())\n",
        "glucose = response.json()\n"
      ],
      "metadata": {
        "id": "rYbpJaU5pio_"
      },
      "execution_count": null,
      "outputs": []
    },
    {
      "cell_type": "code",
      "source": [
        "import pandas as pd\n",
        "\n",
        "observations = [\n",
        "    {\n",
        "        \"Observation ID\": entry['resource']['id'],\n",
        "        \"Effective Date\": entry['resource']['effectiveDateTime'],\n",
        "        \"Glucose Value\": entry['resource']['valueQuantity']['value'],\n",
        "        \"Unit\": entry['resource']['valueQuantity']['unit'],\n",
        "        \"Patient Reference\": entry['resource']['subject']['reference']\n",
        "    }\n",
        "    for entry in glucose['entry']\n",
        "]\n",
        "\n",
        "df = pd.DataFrame(observations)\n"
      ],
      "metadata": {
        "id": "D5d9kynNqXll"
      },
      "execution_count": null,
      "outputs": []
    },
    {
      "cell_type": "code",
      "source": [
        "print(df.tail())"
      ],
      "metadata": {
        "colab": {
          "base_uri": "https://localhost:8080/"
        },
        "id": "-CS6GxUSroME",
        "outputId": "d0022140-6e18-4a03-ac1a-f2e0c0a5c070"
      },
      "execution_count": null,
      "outputs": [
        {
          "output_type": "stream",
          "name": "stdout",
          "text": [
            "   Observation ID             Effective Date  Glucose Value   Unit  \\\n",
            "15        9312948  2010-06-19T04:26:51-04:00      82.688899  mg/dL   \n",
            "16        9312980  2011-06-14T04:26:51-04:00      70.107974  mg/dL   \n",
            "17        9312995  2011-06-19T04:26:51-04:00      72.304092  mg/dL   \n",
            "18        9313036  2012-06-18T04:26:51-04:00      81.605356  mg/dL   \n",
            "19        9312928  2010-06-08T04:26:51-04:00      79.410301  mg/dL   \n",
            "\n",
            "   Patient Reference  \n",
            "15   Patient/9312817  \n",
            "16   Patient/9312817  \n",
            "17   Patient/9312817  \n",
            "18   Patient/9312817  \n",
            "19   Patient/9312817  \n"
          ]
        }
      ]
    },
    {
      "cell_type": "code",
      "source": [
        "import matplotlib.pyplot as plt\n",
        "df['Effective Date'] = pd.to_datetime(df['Effective Date'])\n",
        "\n",
        "plt.figure(figsize=(8, 4))\n",
        "plt.scatter(df['Effective Date'], df['Glucose Value'], marker='s', label='Glucose Value')\n",
        "\n",
        "high_glucose = df[df['Glucose Value'] > 125]\n",
        "plt.scatter(high_glucose['Effective Date'], high_glucose['Glucose Value'], marker='o', color='r', label='High Glucose Value')\n",
        "\n",
        "plt.ylabel('Glucose Value')\n",
        "plt.xlabel('Date')\n",
        "plt.xticks(rotation=45)\n",
        "plt.title('Glucose Values Over Time')\n",
        "plt.legend()\n",
        "plt.grid(True)\n",
        "plt.show()"
      ],
      "metadata": {
        "colab": {
          "base_uri": "https://localhost:8080/",
          "height": 431
        },
        "id": "9DuU0lFgr21Q",
        "outputId": "1fc79b02-006a-4948-d6ed-9939b928eb47"
      },
      "execution_count": null,
      "outputs": [
        {
          "output_type": "display_data",
          "data": {
            "text/plain": [
              "<Figure size 800x400 with 1 Axes>"
            ],
            "image/png": "[encoded data removed]"
          },
          "metadata": {}
        }
      ]
    },
    {
      "cell_type": "markdown",
      "source": [
        "**No he doesn't have, based on his glucose values we have on the data**"
      ],
      "metadata": {
        "id": "hkPGQUIw6GQQ"
      }
    },
    {
      "cell_type": "markdown",
      "source": [
        "#PART 3: CMS Data (3 points)\n",
        "\n",
        "The Centers for Medicare & Medicaid Services (CMS) is the U.S. federal agency that  administers the Medicare program, which provides health insurance to Americans aged 65 and older. Besides overseeing Medicare, CMS also jointly administers Medicaid with state governments, providing health insurance to low-income individuals and families, and also manages few other programs (e.g. CHIP, ACA).   \n",
        "\n",
        "CMS began publishing open datasets in 2010 as part of President Obama's Open Government Initiative. It’s remarkable what kind of data you can download, for free and without credentials, from https://data.cms.gov. Have a look!\n",
        "\n",
        "This set of questions will familiarize you with the kind of data that payers (CMS and private insurers like Cigna) collect and manage. This is often called “administrative” data, to contrast it with the kind of data (mostly clinical) that hospitals and doctor offices collect and manage.\n",
        "\n",
        "We’ve downloaded the Medicare Physician & Other Practitioners - by Provider database from CMS for you, and taken a random sampling of 10% of the data, to make it more manageable."
      ],
      "metadata": {
        "id": "OWWiThfxE7WA"
      }
    },
    {
      "cell_type": "code",
      "source": [
        "path=\"Medicare_Physician_Other_Practitioners_by_Provider_2021_processed.csv\"\n",
        "!gsutil cp gs://10-742/assignment_1/{path} ./\n",
        "df = pd.read_csv(path, low_memory=False)\n",
        "\n",
        "# This file was processed from the original CMS file, available at\n",
        "# https://data.cms.gov/provider-summary-by-type-of-service/medicare-physician-other-practitioners/medicare-physician-other-practitioners-by-provider\n",
        "#\n",
        "# In case you're curious, here's how we processed this file for you:\n",
        "#\n",
        "# prune out 90% of the rows away (to make it a more manageable size)\n",
        "# prune out rows which correspond to a *facility*, not an individual provider.\n",
        "# remove low-frequency provider types and states\n",
        "# remove columns with more than 20% missing data\n",
        "# replace remaining missing cells with 0 (for numerical columns) or 'nothing' (for categorical columns)"
      ],
      "metadata": {
        "id": "ahgrzpd3DJMq",
        "colab": {
          "base_uri": "https://localhost:8080/"
        },
        "outputId": "74850826-2dcd-465f-a96a-a976ec0daaf0"
      },
      "execution_count": null,
      "outputs": [
        {
          "output_type": "stream",
          "name": "stdout",
          "text": [
            "Copying gs://10-742/assignment_1/Medicare_Physician_Other_Practitioners_by_Provider_2021_processed.csv...\n",
            "/ [1 files][ 36.1 MiB/ 36.1 MiB]                                                \n",
            "Operation completed over 1 objects/36.1 MiB.                                     \n"
          ]
        }
      ]
    },
    {
      "cell_type": "code",
      "source": [
        "# EDA\n",
        "if True:\n",
        "  print(\"Here are all the provider types in the data:\\n\")\n",
        "  type_counts = df[\"Rndrng_Prvdr_Type\"].value_counts()\n",
        "  print(type_counts)\n",
        "  print(\"\\nHere are all the states in the data:\\n\")\n",
        "  type_counts = df[\"Rndrng_Prvdr_State_Abrvtn\"].value_counts()\n",
        "  print(type_counts)"
      ],
      "metadata": {
        "id": "lIsFvMS0zV2c",
        "colab": {
          "base_uri": "https://localhost:8080/"
        },
        "outputId": "6a982115-d9e0-4c35-8311-f5ccbfab8beb"
      },
      "execution_count": null,
      "outputs": [
        {
          "output_type": "stream",
          "name": "stdout",
          "text": [
            "Here are all the provider types in the data:\n",
            "\n",
            "Rndrng_Prvdr_Type\n",
            "Nurse Practitioner                        13042\n",
            "Internal Medicine                          8157\n",
            "Physician Assistant                        7227\n",
            "Family Practice                            6712\n",
            "Physical Therapist in Private Practice     6443\n",
            "                                          ...  \n",
            "Colorectal Surgery (Proctology)             150\n",
            "Geriatric Medicine                          150\n",
            "Interventional Pain Management              140\n",
            "Cardiac Surgery                             122\n",
            "Oral Surgery (Dentist only)                 100\n",
            "Name: count, Length: 62, dtype: int64\n",
            "\n",
            "Here are all the states in the data:\n",
            "\n",
            "Rndrng_Prvdr_State_Abrvtn\n",
            "CA    7712\n",
            "NY    7015\n",
            "TX    6480\n",
            "FL    6089\n",
            "PA    5074\n",
            "OH    4118\n",
            "IL    3911\n",
            "MI    3486\n",
            "NC    3358\n",
            "MA    3197\n",
            "NJ    3025\n",
            "GA    2820\n",
            "VA    2453\n",
            "TN    2297\n",
            "MN    2188\n",
            "WA    2158\n",
            "MD    2112\n",
            "WI    2093\n",
            "IN    2062\n",
            "MO    1987\n",
            "AZ    1971\n",
            "CO    1704\n",
            "SC    1550\n",
            "KY    1507\n",
            "CT    1404\n",
            "AL    1398\n",
            "LA    1353\n",
            "OR    1231\n",
            "OK    1118\n",
            "KS     996\n",
            "IA     953\n",
            "AR     858\n",
            "MS     788\n",
            "UT     700\n",
            "NE     685\n",
            "NV     657\n",
            "WV     645\n",
            "ME     609\n",
            "NH     562\n",
            "ID     534\n",
            "NM     506\n",
            "MT     417\n",
            "DE     396\n",
            "SD     381\n",
            "RI     381\n",
            "PR     366\n",
            "HI     362\n",
            "DC     320\n",
            "ND     311\n",
            "VT     245\n",
            "AK     227\n",
            "WY     178\n",
            "Name: count, dtype: int64\n"
          ]
        }
      ]
    },
    {
      "cell_type": "markdown",
      "source": [
        "# 3.1\n",
        "\n",
        "Plot a histogram of the values for `Tot_Mdcr_Pymt_Amt`, which is the total amount during 2021 that each provider was paid by CMS for treating Medicare members. Why might it be preferable to use a logarithmic scale on the y-axis?"
      ],
      "metadata": {
        "id": "4W2AlUplgsrb"
      }
    },
    {
      "cell_type": "markdown",
      "source": [
        "**YOUR ANSWER HERE**"
      ],
      "metadata": {
        "id": "7I77Bdl1BiN8"
      }
    },
    {
      "cell_type": "code",
      "source": [
        "plt.figure(figsize=(8,5))\n",
        "plt.hist(df['Tot_Mdcr_Pymt_Amt'], bins=40)\n",
        "plt.xlabel('Bin')\n",
        "plt.ylabel('Frequency')\n",
        "plt.title('Histogram of the Total Medicare Payment Amount')\n",
        "plt.yscale('log')\n",
        "plt.show()"
      ],
      "metadata": {
        "colab": {
          "base_uri": "https://localhost:8080/",
          "height": 487
        },
        "id": "XW6qYrQs4SOt",
        "outputId": "3145a6f4-e40e-422b-d1df-7b8b3de8da64"
      },
      "execution_count": null,
      "outputs": [
        {
          "output_type": "display_data",
          "data": {
            "text/plain": [
              "<Figure size 800x500 with 1 Axes>"
            ],
            "image/png": "[encoded data removed]"
          },
          "metadata": {}
        }
      ]
    },
    {
      "cell_type": "markdown",
      "source": [
        "***We had to use the log scale for the Frequency of the payment. Hence we need to use a logarithmic scale which tries to raise each points to a power, making it easier to view both low and high frequency, thereby making it easy to be seen and interpreted.***"
      ],
      "metadata": {
        "id": "7TI50oqY8EaQ"
      }
    },
    {
      "cell_type": "markdown",
      "source": [
        "#3.2\n",
        "\n",
        "What are the top ten specialties (i.e. `Rndrng_Prvdr_Type`), ranked by decreasing average per-provider total Medicare payment? The bottom ten specialties?"
      ],
      "metadata": {
        "id": "Zx1TimHxz9iM"
      }
    },
    {
      "cell_type": "code",
      "source": [
        "specialty_avg_payment = df.groupby('Rndrng_Prvdr_Type').apply(lambda x: x['Tot_Mdcr_Pymt_Amt'].mean()).reset_index(name='Mean_payment')\n",
        "sorted_specialties = specialty_avg_payment.sort_values(by='Mean_payment', ascending=False)\n",
        "\n",
        "top_10 = sorted_specialties.head(10)\n",
        "\n",
        "bottom_10 = sorted_specialties.tail(10)\n",
        "\n",
        "print(\"The Top 10 Specialties by Average Medicare Payment:\")\n",
        "print(top_10)\n",
        "\n",
        "print(\"\\nThe Bottom 10 Specialties by Average Medicare Payment:\")\n",
        "print(bottom_10)\n"
      ],
      "metadata": {
        "colab": {
          "base_uri": "https://localhost:8080/"
        },
        "id": "dDK8_v829jJO",
        "outputId": "ec8bf86e-4c65-4c4d-d2ae-bdc016dcf62a"
      },
      "execution_count": null,
      "outputs": [
        {
          "output_type": "stream",
          "name": "stdout",
          "text": [
            "The Top 10 Specialties by Average Medicare Payment:\n",
            "                     Rndrng_Prvdr_Type   Mean_payment\n",
            "22                 Hematology-Oncology  751134.820986\n",
            "31                    Medical Oncology  617695.529030\n",
            "56                        Rheumatology  564101.025904\n",
            "38                       Ophthalmology  451653.053529\n",
            "12                         Dermatology  270404.385547\n",
            "61                    Vascular Surgery  267642.956934\n",
            "54                  Radiation Oncology  254677.260610\n",
            "29            Interventional Radiology  248026.243706\n",
            "28      Interventional Pain Management  246263.081786\n",
            "9   Clinical Cardiac Electrophysiology  235014.078982\n",
            "\n",
            "The Bottom 10 Specialties by Average Medicare Payment:\n",
            "                                 Rndrng_Prvdr_Type  Mean_payment\n",
            "57                     Speech Language Pathologist  27978.967050\n",
            "6              Certified Clinical Nurse Specialist  27925.830321\n",
            "48                             Physician Assistant  27907.035955\n",
            "30                 Licensed Clinical Social Worker  18803.071864\n",
            "7    Certified Registered Nurse Anesthetist (CRNA)  18356.162623\n",
            "36                         Obstetrics & Gynecology  16891.967074\n",
            "8                                     Chiropractic  13901.541281\n",
            "2                         Anesthesiology Assistant  11776.627739\n",
            "3                                      Audiologist   7114.618403\n",
            "55  Registered Dietitian or Nutrition Professional   6033.300140\n"
          ]
        }
      ]
    },
    {
      "cell_type": "code",
      "source": [
        "specialty_avg_payment"
      ],
      "metadata": {
        "id": "iIf4tZCD_ta2",
        "colab": {
          "base_uri": "https://localhost:8080/",
          "height": 423
        },
        "outputId": "79af6820-a9ff-4b83-8d59-e1b1350ae621"
      },
      "execution_count": null,
      "outputs": [
        {
          "output_type": "execute_result",
          "data": {
            "text/plain": [
              "              Rndrng_Prvdr_Type   Mean_payment\n",
              "0           Allergy/ Immunology  175640.214203\n",
              "1                Anesthesiology   39792.294266\n",
              "2      Anesthesiology Assistant   11776.627739\n",
              "3                   Audiologist    7114.618403\n",
              "4               Cardiac Surgery  150907.354016\n",
              "..                          ...            ...\n",
              "57  Speech Language Pathologist   27978.967050\n",
              "58              Sports Medicine  110531.183377\n",
              "59             Thoracic Surgery   99307.701713\n",
              "60                      Urology  203075.073842\n",
              "61             Vascular Surgery  267642.956934\n",
              "\n",
              "[62 rows x 2 columns]"
            ],
            "text/html": [
              "\n",
              "  <div id=\"df-a8e589d9-ab26-4e14-aba1-0d6f071005e0\" class=\"colab-df-container\">\n",
              "    <div>\n",
              "<style scoped>\n",
              "    .dataframe tbody tr th:only-of-type {\n",
              "        vertical-align: middle;\n",
              "    }\n",
              "\n",
              "    .dataframe tbody tr th {\n",
              "        vertical-align: top;\n",
              "    }\n",
              "\n",
              "    .dataframe thead th {\n",
              "        text-align: right;\n",
              "    }\n",
              "</style>\n",
              "<table border=\"1\" class=\"dataframe\">\n",
              "  <thead>\n",
              "    <tr style=\"text-align: right;\">\n",
              "      <th></th>\n",
              "      <th>Rndrng_Prvdr_Type</th>\n",
              "      <th>Mean_payment</th>\n",
              "    </tr>\n",
              "  </thead>\n",
              "  <tbody>\n",
              "    <tr>\n",
              "      <th>0</th>\n",
              "      <td>Allergy/ Immunology</td>\n",
              "      <td>175640.214203</td>\n",
              "    </tr>\n",
              "    <tr>\n",
              "      <th>1</th>\n",
              "      <td>Anesthesiology</td>\n",
              "      <td>39792.294266</td>\n",
              "    </tr>\n",
              "    <tr>\n",
              "      <th>2</th>\n",
              "      <td>Anesthesiology Assistant</td>\n",
              "      <td>11776.627739</td>\n",
              "    </tr>\n",
              "    <tr>\n",
              "      <th>3</th>\n",
              "      <td>Audiologist</td>\n",
              "      <td>7114.618403</td>\n",
              "    </tr>\n",
              "    <tr>\n",
              "      <th>4</th>\n",
              "      <td>Cardiac Surgery</td>\n",
              "      <td>150907.354016</td>\n",
              "    </tr>\n",
              "    <tr>\n",
              "      <th>...</th>\n",
              "      <td>...</td>\n",
              "      <td>...</td>\n",
              "    </tr>\n",
              "    <tr>\n",
              "      <th>57</th>\n",
              "      <td>Speech Language Pathologist</td>\n",
              "      <td>27978.967050</td>\n",
              "    </tr>\n",
              "    <tr>\n",
              "      <th>58</th>\n",
              "      <td>Sports Medicine</td>\n",
              "      <td>110531.183377</td>\n",
              "    </tr>\n",
              "    <tr>\n",
              "      <th>59</th>\n",
              "      <td>Thoracic Surgery</td>\n",
              "      <td>99307.701713</td>\n",
              "    </tr>\n",
              "    <tr>\n",
              "      <th>60</th>\n",
              "      <td>Urology</td>\n",
              "      <td>203075.073842</td>\n",
              "    </tr>\n",
              "    <tr>\n",
              "      <th>61</th>\n",
              "      <td>Vascular Surgery</td>\n",
              "      <td>267642.956934</td>\n",
              "    </tr>\n",
              "  </tbody>\n",
              "</table>\n",
              "<p>62 rows × 2 columns</p>\n",
              "</div>\n",
              "    <div class=\"colab-df-buttons\">\n",
              "\n",
              "  <div class=\"colab-df-container\">\n",
              "    <button class=\"colab-df-convert\" onclick=\"convertToInteractive('df-a8e589d9-ab26-4e14-aba1-0d6f071005e0')\"\n",
              "            title=\"Convert this dataframe to an interactive table.\"\n",
              "            style=\"display:none;\">\n",
              "\n",
              "  <svg xmlns=\"http://www.w3.org/2000/svg\" height=\"24px\" viewBox=\"0 -960 960 960\">\n",
              "    <path d=\"M120-120v-720h720v720H120Zm60-500h600v-160H180v160Zm220 220h160v-160H400v160Zm0 220h160v-160H400v160ZM180-400h160v-160H180v160Zm440 0h160v-160H620v160ZM180-180h160v-160H180v160Zm440 0h160v-160H620v160Z\"/>\n",
              "  </svg>\n",
              "    </button>\n",
              "\n",
              "  <style>\n",
              "    .colab-df-container {\n",
              "      display:flex;\n",
              "      gap: 12px;\n",
              "    }\n",
              "\n",
              "    .colab-df-convert {\n",
              "      background-color: #E8F0FE;\n",
              "      border: none;\n",
              "      border-radius: 50%;\n",
              "      cursor: pointer;\n",
              "      display: none;\n",
              "      fill: #1967D2;\n",
              "      height: 32px;\n",
              "      padding: 0 0 0 0;\n",
              "      width: 32px;\n",
              "    }\n",
              "\n",
              "    .colab-df-convert:hover {\n",
              "      background-color: #E2EBFA;\n",
              "      box-shadow: 0px 1px 2px rgba(60, 64, 67, 0.3), 0px 1px 3px 1px rgba(60, 64, 67, 0.15);\n",
              "      fill: #174EA6;\n",
              "    }\n",
              "\n",
              "    .colab-df-buttons div {\n",
              "      margin-bottom: 4px;\n",
              "    }\n",
              "\n",
              "    [theme=dark] .colab-df-convert {\n",
              "      background-color: #3B4455;\n",
              "      fill: #D2E3FC;\n",
              "    }\n",
              "\n",
              "    [theme=dark] .colab-df-convert:hover {\n",
              "      background-color: #434B5C;\n",
              "      box-shadow: 0px 1px 3px 1px rgba(0, 0, 0, 0.15);\n",
              "      filter: drop-shadow(0px 1px 2px rgba(0, 0, 0, 0.3));\n",
              "      fill: #FFFFFF;\n",
              "    }\n",
              "  </style>\n",
              "\n",
              "    <script>\n",
              "      const buttonEl =\n",
              "        document.querySelector('#df-a8e589d9-ab26-4e14-aba1-0d6f071005e0 button.colab-df-convert');\n",
              "      buttonEl.style.display =\n",
              "        google.colab.kernel.accessAllowed ? 'block' : 'none';\n",
              "\n",
              "      async function convertToInteractive(key) {\n",
              "        const element = document.querySelector('#df-a8e589d9-ab26-4e14-aba1-0d6f071005e0');\n",
              "        const dataTable =\n",
              "          await google.colab.kernel.invokeFunction('convertToInteractive',\n",
              "                                                    [key], {});\n",
              "        if (!dataTable) return;\n",
              "\n",
              "        const docLinkHtml = 'Like what you see? Visit the ' +\n",
              "          '<a target=\"_blank\" href=https://colab.research.google.com/notebooks/data_table.ipynb>data table notebook</a>'\n",
              "          + ' to learn more about interactive tables.';\n",
              "        element.innerHTML = '';\n",
              "        dataTable['output_type'] = 'display_data';\n",
              "        await google.colab.output.renderOutput(dataTable, element);\n",
              "        const docLink = document.createElement('div');\n",
              "        docLink.innerHTML = docLinkHtml;\n",
              "        element.appendChild(docLink);\n",
              "      }\n",
              "    </script>\n",
              "  </div>\n",
              "\n",
              "\n",
              "<div id=\"df-7b12ce1f-c875-4d74-9563-48e4db9c5039\">\n",
              "  <button class=\"colab-df-quickchart\" onclick=\"quickchart('df-7b12ce1f-c875-4d74-9563-48e4db9c5039')\"\n",
              "            title=\"Suggest charts\"\n",
              "            style=\"display:none;\">\n",
              "\n",
              "<svg xmlns=\"http://www.w3.org/2000/svg\" height=\"24px\"viewBox=\"0 0 24 24\"\n",
              "     width=\"24px\">\n",
              "    <g>\n",
              "        <path d=\"M19 3H5c-1.1 0-2 .9-2 2v14c0 1.1.9 2 2 2h14c1.1 0 2-.9 2-2V5c0-1.1-.9-2-2-2zM9 17H7v-7h2v7zm4 0h-2V7h2v10zm4 0h-2v-4h2v4z\"/>\n",
              "    </g>\n",
              "</svg>\n",
              "  </button>\n",
              "\n",
              "<style>\n",
              "  .colab-df-quickchart {\n",
              "      --bg-color: #E8F0FE;\n",
              "      --fill-color: #1967D2;\n",
              "      --hover-bg-color: #E2EBFA;\n",
              "      --hover-fill-color: #174EA6;\n",
              "      --disabled-fill-color: #AAA;\n",
              "      --disabled-bg-color: #DDD;\n",
              "  }\n",
              "\n",
              "  [theme=dark] .colab-df-quickchart {\n",
              "      --bg-color: #3B4455;\n",
              "      --fill-color: #D2E3FC;\n",
              "      --hover-bg-color: #434B5C;\n",
              "      --hover-fill-color: #FFFFFF;\n",
              "      --disabled-bg-color: #3B4455;\n",
              "      --disabled-fill-color: #666;\n",
              "  }\n",
              "\n",
              "  .colab-df-quickchart {\n",
              "    background-color: var(--bg-color);\n",
              "    border: none;\n",
              "    border-radius: 50%;\n",
              "    cursor: pointer;\n",
              "    display: none;\n",
              "    fill: var(--fill-color);\n",
              "    height: 32px;\n",
              "    padding: 0;\n",
              "    width: 32px;\n",
              "  }\n",
              "\n",
              "  .colab-df-quickchart:hover {\n",
              "    background-color: var(--hover-bg-color);\n",
              "    box-shadow: 0 1px 2px rgba(60, 64, 67, 0.3), 0 1px 3px 1px rgba(60, 64, 67, 0.15);\n",
              "    fill: var(--button-hover-fill-color);\n",
              "  }\n",
              "\n",
              "  .colab-df-quickchart-complete:disabled,\n",
              "  .colab-df-quickchart-complete:disabled:hover {\n",
              "    background-color: var(--disabled-bg-color);\n",
              "    fill: var(--disabled-fill-color);\n",
              "    box-shadow: none;\n",
              "  }\n",
              "\n",
              "  .colab-df-spinner {\n",
              "    border: 2px solid var(--fill-color);\n",
              "    border-color: transparent;\n",
              "    border-bottom-color: var(--fill-color);\n",
              "    animation:\n",
              "      spin 1s steps(1) infinite;\n",
              "  }\n",
              "\n",
              "  @keyframes spin {\n",
              "    0% {\n",
              "      border-color: transparent;\n",
              "      border-bottom-color: var(--fill-color);\n",
              "      border-left-color: var(--fill-color);\n",
              "    }\n",
              "    20% {\n",
              "      border-color: transparent;\n",
              "      border-left-color: var(--fill-color);\n",
              "      border-top-color: var(--fill-color);\n",
              "    }\n",
              "    30% {\n",
              "      border-color: transparent;\n",
              "      border-left-color: var(--fill-color);\n",
              "      border-top-color: var(--fill-color);\n",
              "      border-right-color: var(--fill-color);\n",
              "    }\n",
              "    40% {\n",
              "      border-color: transparent;\n",
              "      border-right-color: var(--fill-color);\n",
              "      border-top-color: var(--fill-color);\n",
              "    }\n",
              "    60% {\n",
              "      border-color: transparent;\n",
              "      border-right-color: var(--fill-color);\n",
              "    }\n",
              "    80% {\n",
              "      border-color: transparent;\n",
              "      border-right-color: var(--fill-color);\n",
              "      border-bottom-color: var(--fill-color);\n",
              "    }\n",
              "    90% {\n",
              "      border-color: transparent;\n",
              "      border-bottom-color: var(--fill-color);\n",
              "    }\n",
              "  }\n",
              "</style>\n",
              "\n",
              "  <script>\n",
              "    async function quickchart(key) {\n",
              "      const quickchartButtonEl =\n",
              "        document.querySelector('#' + key + ' button');\n",
              "      quickchartButtonEl.disabled = true;  // To prevent multiple clicks.\n",
              "      quickchartButtonEl.classList.add('colab-df-spinner');\n",
              "      try {\n",
              "        const charts = await google.colab.kernel.invokeFunction(\n",
              "            'suggestCharts', [key], {});\n",
              "      } catch (error) {\n",
              "        console.error('Error during call to suggestCharts:', error);\n",
              "      }\n",
              "      quickchartButtonEl.classList.remove('colab-df-spinner');\n",
              "      quickchartButtonEl.classList.add('colab-df-quickchart-complete');\n",
              "    }\n",
              "    (() => {\n",
              "      let quickchartButtonEl =\n",
              "        document.querySelector('#df-7b12ce1f-c875-4d74-9563-48e4db9c5039 button');\n",
              "      quickchartButtonEl.style.display =\n",
              "        google.colab.kernel.accessAllowed ? 'block' : 'none';\n",
              "    })();\n",
              "  </script>\n",
              "</div>\n",
              "\n",
              "  <div id=\"id_793d784c-4d87-44bf-bcb9-7f8f3890a6f7\">\n",
              "    <style>\n",
              "      .colab-df-generate {\n",
              "        background-color: #E8F0FE;\n",
              "        border: none;\n",
              "        border-radius: 50%;\n",
              "        cursor: pointer;\n",
              "        display: none;\n",
              "        fill: #1967D2;\n",
              "        height: 32px;\n",
              "        padding: 0 0 0 0;\n",
              "        width: 32px;\n",
              "      }\n",
              "\n",
              "      .colab-df-generate:hover {\n",
              "        background-color: #E2EBFA;\n",
              "        box-shadow: 0px 1px 2px rgba(60, 64, 67, 0.3), 0px 1px 3px 1px rgba(60, 64, 67, 0.15);\n",
              "        fill: #174EA6;\n",
              "      }\n",
              "\n",
              "      [theme=dark] .colab-df-generate {\n",
              "        background-color: #3B4455;\n",
              "        fill: #D2E3FC;\n",
              "      }\n",
              "\n",
              "      [theme=dark] .colab-df-generate:hover {\n",
              "        background-color: #434B5C;\n",
              "        box-shadow: 0px 1px 3px 1px rgba(0, 0, 0, 0.15);\n",
              "        filter: drop-shadow(0px 1px 2px rgba(0, 0, 0, 0.3));\n",
              "        fill: #FFFFFF;\n",
              "      }\n",
              "    </style>\n",
              "    <button class=\"colab-df-generate\" onclick=\"generateWithVariable('specialty_avg_payment')\"\n",
              "            title=\"Generate code using this dataframe.\"\n",
              "            style=\"display:none;\">\n",
              "\n",
              "  <svg xmlns=\"http://www.w3.org/2000/svg\" height=\"24px\"viewBox=\"0 0 24 24\"\n",
              "       width=\"24px\">\n",
              "    <path d=\"M7,19H8.4L18.45,9,17,7.55,7,17.6ZM5,21V16.75L18.45,3.32a2,2,0,0,1,2.83,0l1.4,1.43a1.91,1.91,0,0,1,.58,1.4,1.91,1.91,0,0,1-.58,1.4L9.25,21ZM18.45,9,17,7.55Zm-12,3A5.31,5.31,0,0,0,4.9,8.1,5.31,5.31,0,0,0,1,6.5,5.31,5.31,0,0,0,4.9,4.9,5.31,5.31,0,0,0,6.5,1,5.31,5.31,0,0,0,8.1,4.9,5.31,5.31,0,0,0,12,6.5,5.46,5.46,0,0,0,6.5,12Z\"/>\n",
              "  </svg>\n",
              "    </button>\n",
              "    <script>\n",
              "      (() => {\n",
              "      const buttonEl =\n",
              "        document.querySelector('#id_793d784c-4d87-44bf-bcb9-7f8f3890a6f7 button.colab-df-generate');\n",
              "      buttonEl.style.display =\n",
              "        google.colab.kernel.accessAllowed ? 'block' : 'none';\n",
              "\n",
              "      buttonEl.onclick = () => {\n",
              "        google.colab.notebook.generateWithVariable('specialty_avg_payment');\n",
              "      }\n",
              "      })();\n",
              "    </script>\n",
              "  </div>\n",
              "\n",
              "    </div>\n",
              "  </div>\n"
            ],
            "application/vnd.google.colaboratory.intrinsic+json": {
              "type": "dataframe",
              "variable_name": "specialty_avg_payment",
              "summary": "{\n  \"name\": \"specialty_avg_payment\",\n  \"rows\": 62,\n  \"fields\": [\n    {\n      \"column\": \"Rndrng_Prvdr_Type\",\n      \"properties\": {\n        \"dtype\": \"string\",\n        \"num_unique_values\": 62,\n        \"samples\": [\n          \"Podiatry\",\n          \"Rheumatology\",\n          \"Allergy/ Immunology\"\n        ],\n        \"semantic_type\": \"\",\n        \"description\": \"\"\n      }\n    },\n    {\n      \"column\": \"Mean_payment\",\n      \"properties\": {\n        \"dtype\": \"number\",\n        \"std\": 146092.51276449347,\n        \"min\": 6033.300139534884,\n        \"max\": 751134.8209855768,\n        \"num_unique_values\": 62,\n        \"samples\": [\n          129424.92611913357,\n          564101.0259041394,\n          175640.21420289853\n        ],\n        \"semantic_type\": \"\",\n        \"description\": \"\"\n      }\n    }\n  ]\n}"
            }
          },
          "metadata": {},
          "execution_count": 18
        }
      ]
    },
    {
      "cell_type": "markdown",
      "source": [
        "**YOUR ANSWER HERE**"
      ],
      "metadata": {
        "id": "DUo6JJ1_BjAu"
      }
    },
    {
      "cell_type": "markdown",
      "source": [
        "#3.3\n",
        "\n",
        "Show a bar graph of total payment by state, with the states shown in decreasing order of average payment. Note that the `Rndrng_Prvdr_State_Abrvtn` column stores the state for the provider.  "
      ],
      "metadata": {
        "id": "dnX7IdFd_7LL"
      }
    },
    {
      "cell_type": "markdown",
      "source": [
        "**YOUR ANSWER HERE**"
      ],
      "metadata": {
        "id": "HA2K_6IxBj60"
      }
    },
    {
      "cell_type": "code",
      "source": [
        "import matplotlib.pyplot as plt\n",
        "\n",
        "specialty_avg_payment = df.groupby('Rndrng_Prvdr_State_Abrvtn').apply(lambda x: x['Tot_Mdcr_Pymt_Amt'].mean()).reset_index(name='Mean_payment')\n",
        "\n",
        "sorted_state = specialty_avg_payment.sort_values(by='Mean_payment', ascending=False)\n",
        "\n",
        "plt.figure(figsize=(10, 6))\n",
        "plt.bar(sorted_state['Rndrng_Prvdr_State_Abrvtn'], sorted_state['Mean_payment'], color='orange')\n",
        "plt.xlabel('State')\n",
        "plt.ylabel('Average Total Payment')\n",
        "plt.title('Total Medicare Payment by State')\n",
        "plt.xticks(rotation=90)\n",
        "plt.show()\n"
      ],
      "metadata": {
        "colab": {
          "base_uri": "https://localhost:8080/",
          "height": 573
        },
        "id": "rACc7U3hBu3g",
        "outputId": "a2dda815-55e4-4e19-c777-361b21f405be"
      },
      "execution_count": null,
      "outputs": [
        {
          "output_type": "display_data",
          "data": {
            "text/plain": [
              "<Figure size 1000x600 with 1 Axes>"
            ],
            "image/png": "[encoded data removed]"
          },
          "metadata": {}
        }
      ]
    },
    {
      "cell_type": "markdown",
      "source": [
        "# 3.4\n",
        "\n",
        "So far we've observed that Medicare payments to providers vary widely by specialty, and they also vary significantly by geography. Let's now look at the gender of the provider. Produce a bar graph of the average total Medicare payment, by gender."
      ],
      "metadata": {
        "id": "M25wSdXxYAFX"
      }
    },
    {
      "cell_type": "markdown",
      "source": [
        "**YOUR ANSWER HERE**"
      ],
      "metadata": {
        "id": "8wppDPzvBk5Z"
      }
    },
    {
      "cell_type": "code",
      "source": [
        "avg_payment = df.groupby('Rndrng_Prvdr_Gndr').apply(lambda x: x['Tot_Mdcr_Pymt_Amt'].mean()).reset_index(name='Mean_payment')\n",
        "sorted_gender = avg_payment.sort_values(by='Mean_payment', ascending=False)\n",
        "\n",
        "gender_labels = sorted_gender['Rndrng_Prvdr_Gndr'].map({'M': 'Male', 'F': 'Female'})#changing M to male and F to Female\n",
        "\n",
        "plt.figure(figsize=(7, 4))\n",
        "plt.bar(gender_labels, sorted_gender['Mean_payment'], color='orange')\n",
        "plt.xlabel('Gender')\n",
        "plt.ylabel('Average Total Payment')\n",
        "plt.title('Total Medicare Payment by Gender')\n",
        "plt.show()\n"
      ],
      "metadata": {
        "colab": {
          "base_uri": "https://localhost:8080/",
          "height": 410
        },
        "id": "JTeMorikGhaY",
        "outputId": "58210546-b624-4964-9002-091a010f8cea"
      },
      "execution_count": null,
      "outputs": [
        {
          "output_type": "display_data",
          "data": {
            "text/plain": [
              "<Figure size 700x400 with 1 Axes>"
            ],
            "image/png": "[encoded data removed]"
          },
          "metadata": {}
        }
      ]
    },
    {
      "cell_type": "markdown",
      "source": [
        "# 3.5\n",
        "\n",
        "It sure looks like CMS pays male providers a lot more than female providers! That is concerning. But before we jump to conclusions, let's take a closer look at our data.\n",
        "\n",
        "Where might there be [confounding variables](https://www.qualitymatters.org/qa-resources/resource-center/articles-resources/confounding-variables-in-research)?\n",
        "\n",
        "For example, nurses get paid less than doctors, and perhaps there are more female nurses, thus skewing the overall payment distribution? Could it be that the genders are not equally represented in certain (high or low paying) specialties?\n",
        "\n",
        "To start our investigation, let's measure the association between gender and provider type. More specifically, we'll use the [chi-squared test](https://www.khanacademy.org/math/statistics-probability/inference-categorical-data-chi-square-tests) to determine if there's a statistically significant association between `Rndrng_Prvdr_Gndr` and `Rndrng_Prvdr_Type`. If the p-value for the test is below 0.05, it indicates that the association observed in the data is unlikely to be due to chance.\n",
        "\n",
        "Report the p-value of the chi-squared test. Is there a statistically significant association between gender and provider type?"
      ],
      "metadata": {
        "id": "sYYJLP6eZsyk"
      }
    },
    {
      "cell_type": "markdown",
      "source": [
        "**YOUR ANSWER HERE**"
      ],
      "metadata": {
        "id": "CxqU3eHvBnAB"
      }
    },
    {
      "cell_type": "code",
      "source": [
        "import pandas as pd\n",
        "from scipy.stats import chi2_contingency\n",
        "\n",
        "contingency_table = pd.crosstab(df['Rndrng_Prvdr_Gndr'], df['Rndrng_Prvdr_Type'])\n",
        "stat, p, dof, expected = chi2_contingency(contingency_table)\n",
        "\n",
        "alpha = 0.05\n",
        "print(\"p-value is:\", p)\n",
        "\n",
        "if p < alpha:\n",
        "    print('The Association between gender and provider type is not likely due to chance.')\n",
        "    print('Hence there is statistical significance')\n",
        "else:\n",
        "    print('The Association betwen gender and provider type is likely due to chance.')\n",
        "    print('Hence there is no statistical significance')\n",
        "\n",
        "\n",
        "##https://www.stratascratch.com/blog/chi-square-test-in-python-a-technical-guide/"
      ],
      "metadata": {
        "colab": {
          "base_uri": "https://localhost:8080/"
        },
        "id": "EKDJ5WtfJSGY",
        "outputId": "b4618661-0c2a-4a44-a76f-55eca6b0aa24"
      },
      "execution_count": null,
      "outputs": [
        {
          "output_type": "stream",
          "name": "stdout",
          "text": [
            "p-value is: 0.0\n",
            "The Association between gender and provider type is not likely due to chance.\n",
            "Hence there is statistical significance\n"
          ]
        }
      ]
    },
    {
      "cell_type": "code",
      "source": [
        "contingency_table"
      ],
      "metadata": {
        "colab": {
          "base_uri": "https://localhost:8080/",
          "height": 262
        },
        "id": "63sN31qpN3_S",
        "outputId": "4ae9a930-90d6-47ee-dc7c-0c8cfa75d72e"
      },
      "execution_count": null,
      "outputs": [
        {
          "output_type": "execute_result",
          "data": {
            "text/plain": [
              "Rndrng_Prvdr_Type  Allergy/ Immunology  Anesthesiology  \\\n",
              "Rndrng_Prvdr_Gndr                                        \n",
              "F                                   73            1043   \n",
              "M                                  134            2890   \n",
              "\n",
              "Rndrng_Prvdr_Type  Anesthesiology Assistant  Audiologist  Cardiac Surgery  \\\n",
              "Rndrng_Prvdr_Gndr                                                           \n",
              "F                                       152          586                7   \n",
              "M                                       131           84              115   \n",
              "\n",
              "Rndrng_Prvdr_Type  Cardiology  Certified Clinical Nurse Specialist  \\\n",
              "Rndrng_Prvdr_Gndr                                                    \n",
              "F                         284                                  141   \n",
              "M                        1405                                   15   \n",
              "\n",
              "Rndrng_Prvdr_Type  Certified Registered Nurse Anesthetist (CRNA)  \\\n",
              "Rndrng_Prvdr_Gndr                                                  \n",
              "F                                                           2917   \n",
              "M                                                           1951   \n",
              "\n",
              "Rndrng_Prvdr_Type  Chiropractic  Clinical Cardiac Electrophysiology  ...  \\\n",
              "Rndrng_Prvdr_Gndr                                                    ...   \n",
              "F                           797                                  15  ...   \n",
              "M                          2614                                 211  ...   \n",
              "\n",
              "Rndrng_Prvdr_Type  Psychologist, Clinical  Pulmonary Disease  \\\n",
              "Rndrng_Prvdr_Gndr                                              \n",
              "F                                     782                168   \n",
              "M                                     561                611   \n",
              "\n",
              "Rndrng_Prvdr_Type  Radiation Oncology  \\\n",
              "Rndrng_Prvdr_Gndr                       \n",
              "F                                 104   \n",
              "M                                 322   \n",
              "\n",
              "Rndrng_Prvdr_Type  Registered Dietitian or Nutrition Professional  \\\n",
              "Rndrng_Prvdr_Gndr                                                   \n",
              "F                                                             209   \n",
              "M                                                               6   \n",
              "\n",
              "Rndrng_Prvdr_Type  Rheumatology  Speech Language Pathologist  Sports Medicine  \\\n",
              "Rndrng_Prvdr_Gndr                                                               \n",
              "F                           232                          192               23   \n",
              "M                           227                            8              128   \n",
              "\n",
              "Rndrng_Prvdr_Type  Thoracic Surgery  Urology  Vascular Surgery  \n",
              "Rndrng_Prvdr_Gndr                                               \n",
              "F                                20       69                57  \n",
              "M                               231      665               305  \n",
              "\n",
              "[2 rows x 62 columns]"
            ],
            "text/html": [
              "\n",
              "  <div id=\"df-e15b894a-e620-4d79-b6a2-f3862a19ca3a\" class=\"colab-df-container\">\n",
              "    <div>\n",
              "<style scoped>\n",
              "    .dataframe tbody tr th:only-of-type {\n",
              "        vertical-align: middle;\n",
              "    }\n",
              "\n",
              "    .dataframe tbody tr th {\n",
              "        vertical-align: top;\n",
              "    }\n",
              "\n",
              "    .dataframe thead th {\n",
              "        text-align: right;\n",
              "    }\n",
              "</style>\n",
              "<table border=\"1\" class=\"dataframe\">\n",
              "  <thead>\n",
              "    <tr style=\"text-align: right;\">\n",
              "      <th>Rndrng_Prvdr_Type</th>\n",
              "      <th>Allergy/ Immunology</th>\n",
              "      <th>Anesthesiology</th>\n",
              "      <th>Anesthesiology Assistant</th>\n",
              "      <th>Audiologist</th>\n",
              "      <th>Cardiac Surgery</th>\n",
              "      <th>Cardiology</th>\n",
              "      <th>Certified Clinical Nurse Specialist</th>\n",
              "      <th>Certified Registered Nurse Anesthetist (CRNA)</th>\n",
              "      <th>Chiropractic</th>\n",
              "      <th>Clinical Cardiac Electrophysiology</th>\n",
              "      <th>...</th>\n",
              "      <th>Psychologist, Clinical</th>\n",
              "      <th>Pulmonary Disease</th>\n",
              "      <th>Radiation Oncology</th>\n",
              "      <th>Registered Dietitian or Nutrition Professional</th>\n",
              "      <th>Rheumatology</th>\n",
              "      <th>Speech Language Pathologist</th>\n",
              "      <th>Sports Medicine</th>\n",
              "      <th>Thoracic Surgery</th>\n",
              "      <th>Urology</th>\n",
              "      <th>Vascular Surgery</th>\n",
              "    </tr>\n",
              "    <tr>\n",
              "      <th>Rndrng_Prvdr_Gndr</th>\n",
              "      <th></th>\n",
              "      <th></th>\n",
              "      <th></th>\n",
              "      <th></th>\n",
              "      <th></th>\n",
              "      <th></th>\n",
              "      <th></th>\n",
              "      <th></th>\n",
              "      <th></th>\n",
              "      <th></th>\n",
              "      <th></th>\n",
              "      <th></th>\n",
              "      <th></th>\n",
              "      <th></th>\n",
              "      <th></th>\n",
              "      <th></th>\n",
              "      <th></th>\n",
              "      <th></th>\n",
              "      <th></th>\n",
              "      <th></th>\n",
              "      <th></th>\n",
              "    </tr>\n",
              "  </thead>\n",
              "  <tbody>\n",
              "    <tr>\n",
              "      <th>F</th>\n",
              "      <td>73</td>\n",
              "      <td>1043</td>\n",
              "      <td>152</td>\n",
              "      <td>586</td>\n",
              "      <td>7</td>\n",
              "      <td>284</td>\n",
              "      <td>141</td>\n",
              "      <td>2917</td>\n",
              "      <td>797</td>\n",
              "      <td>15</td>\n",
              "      <td>...</td>\n",
              "      <td>782</td>\n",
              "      <td>168</td>\n",
              "      <td>104</td>\n",
              "      <td>209</td>\n",
              "      <td>232</td>\n",
              "      <td>192</td>\n",
              "      <td>23</td>\n",
              "      <td>20</td>\n",
              "      <td>69</td>\n",
              "      <td>57</td>\n",
              "    </tr>\n",
              "    <tr>\n",
              "      <th>M</th>\n",
              "      <td>134</td>\n",
              "      <td>2890</td>\n",
              "      <td>131</td>\n",
              "      <td>84</td>\n",
              "      <td>115</td>\n",
              "      <td>1405</td>\n",
              "      <td>15</td>\n",
              "      <td>1951</td>\n",
              "      <td>2614</td>\n",
              "      <td>211</td>\n",
              "      <td>...</td>\n",
              "      <td>561</td>\n",
              "      <td>611</td>\n",
              "      <td>322</td>\n",
              "      <td>6</td>\n",
              "      <td>227</td>\n",
              "      <td>8</td>\n",
              "      <td>128</td>\n",
              "      <td>231</td>\n",
              "      <td>665</td>\n",
              "      <td>305</td>\n",
              "    </tr>\n",
              "  </tbody>\n",
              "</table>\n",
              "<p>2 rows × 62 columns</p>\n",
              "</div>\n",
              "    <div class=\"colab-df-buttons\">\n",
              "\n",
              "  <div class=\"colab-df-container\">\n",
              "    <button class=\"colab-df-convert\" onclick=\"convertToInteractive('df-e15b894a-e620-4d79-b6a2-f3862a19ca3a')\"\n",
              "            title=\"Convert this dataframe to an interactive table.\"\n",
              "            style=\"display:none;\">\n",
              "\n",
              "  <svg xmlns=\"http://www.w3.org/2000/svg\" height=\"24px\" viewBox=\"0 -960 960 960\">\n",
              "    <path d=\"M120-120v-720h720v720H120Zm60-500h600v-160H180v160Zm220 220h160v-160H400v160Zm0 220h160v-160H400v160ZM180-400h160v-160H180v160Zm440 0h160v-160H620v160ZM180-180h160v-160H180v160Zm440 0h160v-160H620v160Z\"/>\n",
              "  </svg>\n",
              "    </button>\n",
              "\n",
              "  <style>\n",
              "    .colab-df-container {\n",
              "      display:flex;\n",
              "      gap: 12px;\n",
              "    }\n",
              "\n",
              "    .colab-df-convert {\n",
              "      background-color: #E8F0FE;\n",
              "      border: none;\n",
              "      border-radius: 50%;\n",
              "      cursor: pointer;\n",
              "      display: none;\n",
              "      fill: #1967D2;\n",
              "      height: 32px;\n",
              "      padding: 0 0 0 0;\n",
              "      width: 32px;\n",
              "    }\n",
              "\n",
              "    .colab-df-convert:hover {\n",
              "      background-color: #E2EBFA;\n",
              "      box-shadow: 0px 1px 2px rgba(60, 64, 67, 0.3), 0px 1px 3px 1px rgba(60, 64, 67, 0.15);\n",
              "      fill: #174EA6;\n",
              "    }\n",
              "\n",
              "    .colab-df-buttons div {\n",
              "      margin-bottom: 4px;\n",
              "    }\n",
              "\n",
              "    [theme=dark] .colab-df-convert {\n",
              "      background-color: #3B4455;\n",
              "      fill: #D2E3FC;\n",
              "    }\n",
              "\n",
              "    [theme=dark] .colab-df-convert:hover {\n",
              "      background-color: #434B5C;\n",
              "      box-shadow: 0px 1px 3px 1px rgba(0, 0, 0, 0.15);\n",
              "      filter: drop-shadow(0px 1px 2px rgba(0, 0, 0, 0.3));\n",
              "      fill: #FFFFFF;\n",
              "    }\n",
              "  </style>\n",
              "\n",
              "    <script>\n",
              "      const buttonEl =\n",
              "        document.querySelector('#df-e15b894a-e620-4d79-b6a2-f3862a19ca3a button.colab-df-convert');\n",
              "      buttonEl.style.display =\n",
              "        google.colab.kernel.accessAllowed ? 'block' : 'none';\n",
              "\n",
              "      async function convertToInteractive(key) {\n",
              "        const element = document.querySelector('#df-e15b894a-e620-4d79-b6a2-f3862a19ca3a');\n",
              "        const dataTable =\n",
              "          await google.colab.kernel.invokeFunction('convertToInteractive',\n",
              "                                                    [key], {});\n",
              "        if (!dataTable) return;\n",
              "\n",
              "        const docLinkHtml = 'Like what you see? Visit the ' +\n",
              "          '<a target=\"_blank\" href=https://colab.research.google.com/notebooks/data_table.ipynb>data table notebook</a>'\n",
              "          + ' to learn more about interactive tables.';\n",
              "        element.innerHTML = '';\n",
              "        dataTable['output_type'] = 'display_data';\n",
              "        await google.colab.output.renderOutput(dataTable, element);\n",
              "        const docLink = document.createElement('div');\n",
              "        docLink.innerHTML = docLinkHtml;\n",
              "        element.appendChild(docLink);\n",
              "      }\n",
              "    </script>\n",
              "  </div>\n",
              "\n",
              "\n",
              "<div id=\"df-15112513-6a8c-462c-9338-8899cc22639a\">\n",
              "  <button class=\"colab-df-quickchart\" onclick=\"quickchart('df-15112513-6a8c-462c-9338-8899cc22639a')\"\n",
              "            title=\"Suggest charts\"\n",
              "            style=\"display:none;\">\n",
              "\n",
              "<svg xmlns=\"http://www.w3.org/2000/svg\" height=\"24px\"viewBox=\"0 0 24 24\"\n",
              "     width=\"24px\">\n",
              "    <g>\n",
              "        <path d=\"M19 3H5c-1.1 0-2 .9-2 2v14c0 1.1.9 2 2 2h14c1.1 0 2-.9 2-2V5c0-1.1-.9-2-2-2zM9 17H7v-7h2v7zm4 0h-2V7h2v10zm4 0h-2v-4h2v4z\"/>\n",
              "    </g>\n",
              "</svg>\n",
              "  </button>\n",
              "\n",
              "<style>\n",
              "  .colab-df-quickchart {\n",
              "      --bg-color: #E8F0FE;\n",
              "      --fill-color: #1967D2;\n",
              "      --hover-bg-color: #E2EBFA;\n",
              "      --hover-fill-color: #174EA6;\n",
              "      --disabled-fill-color: #AAA;\n",
              "      --disabled-bg-color: #DDD;\n",
              "  }\n",
              "\n",
              "  [theme=dark] .colab-df-quickchart {\n",
              "      --bg-color: #3B4455;\n",
              "      --fill-color: #D2E3FC;\n",
              "      --hover-bg-color: #434B5C;\n",
              "      --hover-fill-color: #FFFFFF;\n",
              "      --disabled-bg-color: #3B4455;\n",
              "      --disabled-fill-color: #666;\n",
              "  }\n",
              "\n",
              "  .colab-df-quickchart {\n",
              "    background-color: var(--bg-color);\n",
              "    border: none;\n",
              "    border-radius: 50%;\n",
              "    cursor: pointer;\n",
              "    display: none;\n",
              "    fill: var(--fill-color);\n",
              "    height: 32px;\n",
              "    padding: 0;\n",
              "    width: 32px;\n",
              "  }\n",
              "\n",
              "  .colab-df-quickchart:hover {\n",
              "    background-color: var(--hover-bg-color);\n",
              "    box-shadow: 0 1px 2px rgba(60, 64, 67, 0.3), 0 1px 3px 1px rgba(60, 64, 67, 0.15);\n",
              "    fill: var(--button-hover-fill-color);\n",
              "  }\n",
              "\n",
              "  .colab-df-quickchart-complete:disabled,\n",
              "  .colab-df-quickchart-complete:disabled:hover {\n",
              "    background-color: var(--disabled-bg-color);\n",
              "    fill: var(--disabled-fill-color);\n",
              "    box-shadow: none;\n",
              "  }\n",
              "\n",
              "  .colab-df-spinner {\n",
              "    border: 2px solid var(--fill-color);\n",
              "    border-color: transparent;\n",
              "    border-bottom-color: var(--fill-color);\n",
              "    animation:\n",
              "      spin 1s steps(1) infinite;\n",
              "  }\n",
              "\n",
              "  @keyframes spin {\n",
              "    0% {\n",
              "      border-color: transparent;\n",
              "      border-bottom-color: var(--fill-color);\n",
              "      border-left-color: var(--fill-color);\n",
              "    }\n",
              "    20% {\n",
              "      border-color: transparent;\n",
              "      border-left-color: var(--fill-color);\n",
              "      border-top-color: var(--fill-color);\n",
              "    }\n",
              "    30% {\n",
              "      border-color: transparent;\n",
              "      border-left-color: var(--fill-color);\n",
              "      border-top-color: var(--fill-color);\n",
              "      border-right-color: var(--fill-color);\n",
              "    }\n",
              "    40% {\n",
              "      border-color: transparent;\n",
              "      border-right-color: var(--fill-color);\n",
              "      border-top-color: var(--fill-color);\n",
              "    }\n",
              "    60% {\n",
              "      border-color: transparent;\n",
              "      border-right-color: var(--fill-color);\n",
              "    }\n",
              "    80% {\n",
              "      border-color: transparent;\n",
              "      border-right-color: var(--fill-color);\n",
              "      border-bottom-color: var(--fill-color);\n",
              "    }\n",
              "    90% {\n",
              "      border-color: transparent;\n",
              "      border-bottom-color: var(--fill-color);\n",
              "    }\n",
              "  }\n",
              "</style>\n",
              "\n",
              "  <script>\n",
              "    async function quickchart(key) {\n",
              "      const quickchartButtonEl =\n",
              "        document.querySelector('#' + key + ' button');\n",
              "      quickchartButtonEl.disabled = true;  // To prevent multiple clicks.\n",
              "      quickchartButtonEl.classList.add('colab-df-spinner');\n",
              "      try {\n",
              "        const charts = await google.colab.kernel.invokeFunction(\n",
              "            'suggestCharts', [key], {});\n",
              "      } catch (error) {\n",
              "        console.error('Error during call to suggestCharts:', error);\n",
              "      }\n",
              "      quickchartButtonEl.classList.remove('colab-df-spinner');\n",
              "      quickchartButtonEl.classList.add('colab-df-quickchart-complete');\n",
              "    }\n",
              "    (() => {\n",
              "      let quickchartButtonEl =\n",
              "        document.querySelector('#df-15112513-6a8c-462c-9338-8899cc22639a button');\n",
              "      quickchartButtonEl.style.display =\n",
              "        google.colab.kernel.accessAllowed ? 'block' : 'none';\n",
              "    })();\n",
              "  </script>\n",
              "</div>\n",
              "\n",
              "  <div id=\"id_3f02b6b6-4933-45f3-aad9-9b1289fc596c\">\n",
              "    <style>\n",
              "      .colab-df-generate {\n",
              "        background-color: #E8F0FE;\n",
              "        border: none;\n",
              "        border-radius: 50%;\n",
              "        cursor: pointer;\n",
              "        display: none;\n",
              "        fill: #1967D2;\n",
              "        height: 32px;\n",
              "        padding: 0 0 0 0;\n",
              "        width: 32px;\n",
              "      }\n",
              "\n",
              "      .colab-df-generate:hover {\n",
              "        background-color: #E2EBFA;\n",
              "        box-shadow: 0px 1px 2px rgba(60, 64, 67, 0.3), 0px 1px 3px 1px rgba(60, 64, 67, 0.15);\n",
              "        fill: #174EA6;\n",
              "      }\n",
              "\n",
              "      [theme=dark] .colab-df-generate {\n",
              "        background-color: #3B4455;\n",
              "        fill: #D2E3FC;\n",
              "      }\n",
              "\n",
              "      [theme=dark] .colab-df-generate:hover {\n",
              "        background-color: #434B5C;\n",
              "        box-shadow: 0px 1px 3px 1px rgba(0, 0, 0, 0.15);\n",
              "        filter: drop-shadow(0px 1px 2px rgba(0, 0, 0, 0.3));\n",
              "        fill: #FFFFFF;\n",
              "      }\n",
              "    </style>\n",
              "    <button class=\"colab-df-generate\" onclick=\"generateWithVariable('contingency_table')\"\n",
              "            title=\"Generate code using this dataframe.\"\n",
              "            style=\"display:none;\">\n",
              "\n",
              "  <svg xmlns=\"http://www.w3.org/2000/svg\" height=\"24px\"viewBox=\"0 0 24 24\"\n",
              "       width=\"24px\">\n",
              "    <path d=\"M7,19H8.4L18.45,9,17,7.55,7,17.6ZM5,21V16.75L18.45,3.32a2,2,0,0,1,2.83,0l1.4,1.43a1.91,1.91,0,0,1,.58,1.4,1.91,1.91,0,0,1-.58,1.4L9.25,21ZM18.45,9,17,7.55Zm-12,3A5.31,5.31,0,0,0,4.9,8.1,5.31,5.31,0,0,0,1,6.5,5.31,5.31,0,0,0,4.9,4.9,5.31,5.31,0,0,0,6.5,1,5.31,5.31,0,0,0,8.1,4.9,5.31,5.31,0,0,0,12,6.5,5.46,5.46,0,0,0,6.5,12Z\"/>\n",
              "  </svg>\n",
              "    </button>\n",
              "    <script>\n",
              "      (() => {\n",
              "      const buttonEl =\n",
              "        document.querySelector('#id_3f02b6b6-4933-45f3-aad9-9b1289fc596c button.colab-df-generate');\n",
              "      buttonEl.style.display =\n",
              "        google.colab.kernel.accessAllowed ? 'block' : 'none';\n",
              "\n",
              "      buttonEl.onclick = () => {\n",
              "        google.colab.notebook.generateWithVariable('contingency_table');\n",
              "      }\n",
              "      })();\n",
              "    </script>\n",
              "  </div>\n",
              "\n",
              "    </div>\n",
              "  </div>\n"
            ],
            "application/vnd.google.colaboratory.intrinsic+json": {
              "type": "dataframe",
              "variable_name": "contingency_table"
            }
          },
          "metadata": {},
          "execution_count": 22
        }
      ]
    },
    {
      "cell_type": "markdown",
      "source": [
        "#3.6\n",
        "\n",
        "Now let's try to remove one suspected confounding variable, which is the licensure level.  Do this by only looking at rows where `Rndrng_Prvdr_Crdntls` is \"MD\" or \"M.D.\" For these remaining rows, plot the average total payment by gender.\n",
        "\n",
        "Does this even out the results?"
      ],
      "metadata": {
        "id": "-p_vtViKwv2G"
      }
    },
    {
      "cell_type": "markdown",
      "source": [
        "**YOUR ANSWER HERE**"
      ],
      "metadata": {
        "id": "9UOwSfgNBnv-"
      }
    },
    {
      "cell_type": "code",
      "source": [
        "no_MD = (df['Rndrng_Prvdr_Crdntls'] != 'MD') & (df['Rndrng_Prvdr_Crdntls'] != 'M.D.')\n",
        "\n",
        "filtered_df = df[no_MD]\n",
        "\n",
        "# print(f'The count of observation is {filtered_df.count()}')\n",
        "avg_payment = filtered_df.groupby('Rndrng_Prvdr_Gndr').apply(lambda x: x['Tot_Mdcr_Pymt_Amt'].mean()).reset_index(name='Mean_payment')\n",
        "sorted_gender = avg_payment.sort_values(by='Mean_payment', ascending=False)\n",
        "\n",
        "gender_labels = sorted_gender['Rndrng_Prvdr_Gndr'].map({'M': 'Male', 'F': 'Female'})#changing M to male and F to Female\n",
        "\n",
        "plt.figure(figsize=(7, 4))\n",
        "plt.bar(gender_labels, sorted_gender['Mean_payment'], color='orange')\n",
        "plt.xlabel('Gender')\n",
        "plt.ylabel('Average Total Payment')\n",
        "plt.title('Total Medicare Payment by Gender')\n",
        "plt.show()\n"
      ],
      "metadata": {
        "colab": {
          "base_uri": "https://localhost:8080/",
          "height": 410
        },
        "id": "5hx1aI5kIh2H",
        "outputId": "7e695e69-5cff-4f4d-b20d-549bcf51b788"
      },
      "execution_count": null,
      "outputs": [
        {
          "output_type": "display_data",
          "data": {
            "text/plain": [
              "<Figure size 700x400 with 1 Axes>"
            ],
            "image/png": "[encoded data removed]"
          },
          "metadata": {}
        }
      ]
    },
    {
      "cell_type": "markdown",
      "source": [
        "# 3.7\n",
        "\n",
        "Let's now remove the confounding variable of provider type.  One way to accomplish this is using [matched-pair analysis](https://statisticsbyjim.com/basics/matched-pairs-design/).\n",
        "\n",
        "The idea is this. We will subsample the rows of our dataset so that, for each provider type, we have the same number of samples from each gender. With this new dataset, we can re-investigate the association between gender and payment, but this time, we will have removed the confounding factor of provider type.\n",
        "\n",
        "More specifically, your task here is to:\n",
        "- Consider only rows where `Rndrng_Prvdr_Crdntls` is \"MD\" or \"M.D.\"\n",
        "- Prune all rows where `Rndrng_Prvdr_Type` occurs less than 100 times in the dataset.\n",
        "- For each remaining `Rndrng_Prvdr_Type`, select an equal number of each gender.\n",
        "- Create a new bar graph, as above, showing `Tot_Mdcr_Pymt_Amt` against Rndrng_Prvdr_Gndr\n",
        "\n",
        "\n",
        "What are your observations? Is there still a discrepancy? If yes, what might be the reason for that?\n"
      ],
      "metadata": {
        "id": "dNOyeTEehl8V"
      }
    },
    {
      "cell_type": "markdown",
      "source": [
        "**YOUR ANSWER HERE**"
      ],
      "metadata": {
        "id": "V67uFaCMBogb"
      }
    },
    {
      "cell_type": "code",
      "source": [
        "import pandas as pd\n",
        "import matplotlib.pyplot as plt\n",
        "\n",
        "md_row = df[(df['Rndrng_Prvdr_Crdntls'] == 'MD') | (df['Rndrng_Prvdr_Crdntls'] == 'M.D.')]\n",
        "\n",
        "provider_counts = md_row['Rndrng_Prvdr_Type'].value_counts()\n",
        "pruned_md_row = md_row[md_row['Rndrng_Prvdr_Type'].isin(provider_counts[provider_counts > 100].index)]\n",
        "\n",
        "matched_df = pruned_md_row.groupby('Rndrng_Prvdr_Type').apply(\n",
        "    lambda x: x.groupby('Rndrng_Prvdr_Gndr').apply(lambda y: y.sample(n=min(len(y), len(x[x['Rndrng_Prvdr_Gndr'] != y['Rndrng_Prvdr_Gndr'].iloc[0]]))))\n",
        ").reset_index(drop=True)\n",
        "\n",
        "avg_payment = matched_df.groupby('Rndrng_Prvdr_Gndr')['Tot_Mdcr_Pymt_Amt'].mean().reset_index(name='Mean_payment')\n",
        "sorted_gender = avg_payment.sort_values(by='Mean_payment', ascending=False)\n",
        "\n",
        "gender_labels = sorted_gender['Rndrng_Prvdr_Gndr'].map({'M': 'Male', 'F': 'Female'})  # Change M to Male and F to Female\n",
        "\n",
        "plt.figure(figsize=(7, 4))\n",
        "plt.bar(gender_labels, sorted_gender['Mean_payment'], color='orange')\n",
        "plt.xlabel('Gender')\n",
        "plt.ylabel('Average Total Payment')\n",
        "plt.title('Total Medicare Payment by Gender (Matched Pair Analysis)')\n",
        "plt.show()\n",
        "\n",
        "\n"
      ],
      "metadata": {
        "colab": {
          "base_uri": "https://localhost:8080/",
          "height": 410
        },
        "id": "tMg62bzMPmf-",
        "outputId": "5c1291e1-c167-4070-f9e5-afe157cfbf26"
      },
      "execution_count": null,
      "outputs": [
        {
          "output_type": "display_data",
          "data": {
            "text/plain": [
              "<Figure size 700x400 with 1 Axes>"
            ],
            "image/png": "[encoded data removed]"
          },
          "metadata": {}
        }
      ]
    },
    {
      "cell_type": "markdown",
      "source": [
        "#Part 4: Bayesian Inference (2 points)\n",
        "\n",
        "Congratulations! You have just been appointed Chief of Springfield General Hospital's DRG - the Diagnostic Referral Group. This is the elite team of expert clinicians who consult on the trickiest cases in the hospital.\n",
        "\n",
        "As an expert diagnostician, you rely on Bayesian inference as a core part of your toolkit.\n",
        "\n",
        "You have been called in to help assess whether a patient, Harry Q Bovik, has the rare disease called \"Yinzer syndrome.\"\n",
        "\n",
        "Yinzer syndrome affects about 1 in 10,000 people. A new test has been developed to detect this disorder, which has the following characteristics:\n",
        "\n",
        "* Sensitivity (True Positive Rate): 99%\n",
        "* Specificity (True Negative Rate): 98%\n",
        "\n",
        "Mr. Bovik has tested positive for Yinzer syndrome. Your job is to determine whether Mr. Bovik actually has Yinzer syndrome.\n"
      ],
      "metadata": {
        "id": "_6yP0sk5eaAc"
      }
    },
    {
      "cell_type": "markdown",
      "source": [
        "#4.1\n",
        "\n",
        "Explain succinctly what is meant by sensitivity and specificity in this context. How do these terms relate to the terms recall and precision?"
      ],
      "metadata": {
        "id": "QRYcC3AUBtzN"
      }
    },
    {
      "cell_type": "markdown",
      "source": [
        "Let's define some terms:\n",
        "\n",
        "𝑃(𝐷) : probability of the disease (Yinzer syndrome, in this case)\n",
        "\n",
        "𝑃(𝑇) : probability of a positive test\n",
        "\n",
        "𝑝(𝐷|𝑇)  and  𝑝(𝑇|𝐷)  should hopefully be obvious"
      ],
      "metadata": {
        "id": "7SsLt7khBuUh"
      }
    },
    {
      "cell_type": "markdown",
      "source": [
        "**YOUR ANSWER HERE**"
      ],
      "metadata": {
        "id": "OaFcCHLHBqGi"
      }
    },
    {
      "cell_type": "markdown",
      "source": [
        "Senstivity in this context is the percentage of persons who have the disease and are correctly identified as having Yinzer syndrome. The mathematical formular is the percentage ratio of True postive to the sum of true postive and false negative. That is;\n",
        "\n",
        "Sensitivity = TP / (TP + FN)\n",
        "\n",
        "\n",
        "While specificity is percentage of persons without the disease(Yinzer disease) and are correctly labeled as not having the disease. The mathematical formular is the percentage of True Negative to the sum of true negative and false postive. That is ;\n",
        "\n",
        "Specificity = TN / (TN + FP)\n",
        "\n",
        "In the context of recall and precison, recall and sentivity are the same but often times, sentivity is used when refering to medical data while recall is used for non-medicial data. while specificity and precision is not excactly the same as  Precision is the percentage of true positive results among all positive results, that is measuring the accuracy of postive predictions while specificity measure correctness of identifying negative predictions.\n",
        "\n",
        "Precision = TP / (TP + FP)\n",
        "\n",
        "And usually specificity is used when refering to medical data while precison is used when refering to other types of data\n",
        "\n",
        "\n",
        "\n"
      ],
      "metadata": {
        "id": "iw6Sn1RqdMsb"
      }
    },
    {
      "cell_type": "markdown",
      "source": [
        "#4.2\n",
        "\n",
        "Given this terminology and using Bayes Theorem, calculate the posterior probability $p(D|T)$ as a function of known numeric quantities. Show your work."
      ],
      "metadata": {
        "id": "XhAGl2M9ByXB"
      }
    },
    {
      "cell_type": "markdown",
      "source": [
        "**YOUR ANSWER HERE**"
      ],
      "metadata": {
        "id": "8cXId0OEBrGC"
      }
    },
    {
      "cell_type": "markdown",
      "source": [
        "Given that,\n",
        "probability of getting yinzer syndrome is 1/10000 = 0.0001\n",
        "probability of testing postive given that I have the diease which is the sensitivity = 0.99\n",
        "probability of testing postive = prob(testing postive| I have the diease) * prob(having the disease) + prob(testing postive | I do not have the disease) * prob( not having the disease)\n",
        "\n",
        "where:\n",
        "prob(testing postive| I have the diease) = 0.99\n",
        "\n",
        "\n",
        "prob(having the disease) = 0.0001\n",
        "\n",
        "\n",
        "prob(testing postive | I do not have the disease) = 1- prob(testing negative| you do not have the disease)= 1- (specificity) = 0.02\n",
        "\n",
        "\n",
        "prob( not having the disease) = 1-0.0001 = 0.9999\n",
        "\n",
        "P(T) = P(T|D)*P(D) + P(T|D')*P(D')\n",
        "\n",
        "\n",
        "P(T) = 0.99 * 0.0001 + 0.02* 0.9999 = 0.020097\n",
        "\n",
        "\n",
        "Hence the Posterior prob,\n",
        "\n",
        "P(D|T) = (P(T|D)* P(D))/P(T)\n",
        "\n",
        "P(D|T) = (0.99* 0.0001)/ 0.020097\n",
        "\n",
        "P(D|T) = 0.0049\n",
        "\n",
        "\n",
        "Hence the posterior probability is **0.49%**"
      ],
      "metadata": {
        "id": "mux2pcB4cJ1Z"
      }
    },
    {
      "cell_type": "markdown",
      "source": [
        "#4.3\n",
        "\n",
        "It is interesting to observe that $p(T|D)$ is so large and $p(D|T)$ is so small. Provide an intuitive explanation for that. Give some real-world examples of diseases $D$ and symptoms $T$ where this same discrepancy between $p(T|D)$ and $p(D|T)$ holds."
      ],
      "metadata": {
        "id": "fXqr5-grB4LY"
      }
    },
    {
      "cell_type": "markdown",
      "source": [
        "**YOUR ANSWER HERE**"
      ],
      "metadata": {
        "id": "hGUAaeypBsOK"
      }
    },
    {
      "cell_type": "markdown",
      "source": [
        "This is becuase in most cases there is no one symptoms that justifies that a person has the disease. Hence p(T|D) which means the probality that a persons has the symptom(T) of **cough** given that the person has the disease(D) **Covid-19** is very high as that is one of the common symptom that shows covid, but the fact that the person has the disease **Covid-19** given that the person is **coughing** is very low as that is not the only cause of the infection, make this one we have to consider all the possibility that are associated with someon coughing which include flu, tuberculosis and others that is only when the p(**D|T**) will begin to increase."
      ],
      "metadata": {
        "id": "H-w4vGkd5fM9"
      }
    },
    {
      "cell_type": "markdown",
      "source": [
        "#4.4\n",
        "\n",
        "Now suppose new genetic research determines that individuals with certain characteristics (e.g., family history, ancestry from a particular region) have a higher base rate of Yinzer syndrome, at 1 in 1,000. Recalculate the posterior probability for these individuals. Show your work.\n"
      ],
      "metadata": {
        "id": "vpgZibrJB9Qj"
      }
    },
    {
      "cell_type": "markdown",
      "source": [
        "**YOUR ANSWER HERE**"
      ],
      "metadata": {
        "id": "Ncxqa_vlBtPl"
      }
    },
    {
      "cell_type": "markdown",
      "source": [
        "P(D) = 0.001\n",
        "\n",
        "P(D') =  0.999\n",
        "\n",
        "P(T|D) = 0.99\n",
        "\n",
        "P(T|D') = 1-(98/100) = 0.02\n",
        "\n",
        "\n",
        "P(T) = P(T|D)*P(D) + P(T|D')* P(D')\n",
        "\n",
        "P(T) = 0.99 * 0.001 + 0.02* 0.999 = 0.02097\n",
        "\n",
        "Hence the Posterior prob, P(D|T) = (P(T|D)* P(D))/P(T)\n",
        "\n",
        "P(D|T) = (0.99* 0.001)/ 0.02097\n",
        "\n",
        "P(D|T) = 0.04721\n",
        "\n",
        "P(D|T) = **4.72%**\n"
      ],
      "metadata": {
        "id": "bcAtRLCcouCC"
      }
    },
    {
      "cell_type": "code",
      "source": [],
      "metadata": {
        "id": "74Cxqzo0HfDE"
      },
      "execution_count": null,
      "outputs": []
    }
  ]
}