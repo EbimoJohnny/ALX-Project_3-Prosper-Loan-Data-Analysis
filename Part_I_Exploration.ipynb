{
 "cells": [
  {
   "cell_type": "markdown",
   "id": "a137603e",
   "metadata": {},
   "source": [
    "# Part I - Prosper Loan Data Analysis\n",
    "## by Johnny Samuel\n",
    "\n",
    "## Introduction\n",
    "> This data set contains 113,937 loans with 81 variables on each loan, including loan amount, borrower rate (or interest rate), current loan status, borrower income, and many others.\n",
    "\n",
    "\n",
    "\n",
    "\n",
    "\n",
    "## Preliminary Wrangling\n"
   ]
  },
  {
   "cell_type": "markdown",
   "id": "a534b7f1",
   "metadata": {},
   "source": [
    "#### We Import all the needed libraries that wil be useful during our anaysis."
   ]
  },
  {
   "cell_type": "code",
   "execution_count": null,
   "id": "b5536985",
   "metadata": {},
   "outputs": [],
   "source": [
    "import numpy as np\n",
    "import pandas as pd\n",
    "import matplotlib.pyplot as plt\n",
    "import seaborn as sns\n",
    "from PIL import Image\n",
    "from wordcloud import WordCloud, STOPWORDS, ImageColorGenerator\n",
    "%matplotlib inline\n",
    "import warnings\n",
    "warnings.filterwarnings('ignore')"
   ]
  },
  {
   "cell_type": "code",
   "execution_count": null,
   "id": "8b04c654",
   "metadata": {},
   "outputs": [],
   "source": [
    "# Load the dataset\n",
    "df=pd.read_csv('prosperLoanData.csv',encoding='ISO-8859-1')"
   ]
  },
  {
   "cell_type": "code",
   "execution_count": null,
   "id": "254a31fa",
   "metadata": {},
   "outputs": [],
   "source": [
    "df.head()"
   ]
  },
  {
   "cell_type": "code",
   "execution_count": null,
   "id": "a4e905ea",
   "metadata": {},
   "outputs": [],
   "source": [
    "# Find the shape of the data set\n",
    "df.shape"
   ]
  },
  {
   "cell_type": "code",
   "execution_count": null,
   "id": "4cce4be1",
   "metadata": {},
   "outputs": [],
   "source": [
    "# Give list of the column to enable us see all the columns and thus find the right columns to work with\n",
    "col_list=list(df.columns)\n",
    "col_list"
   ]
  },
  {
   "cell_type": "code",
   "execution_count": null,
   "id": "0eef2356",
   "metadata": {},
   "outputs": [],
   "source": [
    "#### We try to observe the different columns"
   ]
  },
  {
   "cell_type": "code",
   "execution_count": null,
   "id": "5deda801",
   "metadata": {},
   "outputs": [],
   "source": [
    "df.PercentFunded.describe()"
   ]
  },
  {
   "cell_type": "code",
   "execution_count": null,
   "id": "6811fa79",
   "metadata": {},
   "outputs": [],
   "source": [
    "df.Term.value_counts()"
   ]
  },
  {
   "cell_type": "code",
   "execution_count": null,
   "id": "61ec0996",
   "metadata": {},
   "outputs": [],
   "source": [
    "df.EmploymentStatusDuration.value_counts()"
   ]
  },
  {
   "cell_type": "code",
   "execution_count": null,
   "id": "f6b55354",
   "metadata": {},
   "outputs": [],
   "source": [
    "df.LoanOriginalAmount.value_counts().hist(bins=20)"
   ]
  },
  {
   "cell_type": "code",
   "execution_count": null,
   "id": "202c231f",
   "metadata": {
    "scrolled": true
   },
   "outputs": [],
   "source": [
    "df.InvestmentFromFriendsCount.value_counts()"
   ]
  },
  {
   "cell_type": "code",
   "execution_count": null,
   "id": "b8c00ef4",
   "metadata": {},
   "outputs": [],
   "source": [
    "# List of the columns we want to consider and draw inference from\n",
    "loan_col=['LoanOriginalAmount', 'BorrowerAPR', 'StatedMonthlyIncome', 'Term', 'ProsperRating (Alpha)', \n",
    "        'EmploymentStatus','Occupation','BorrowerRate','LoanStatus']"
   ]
  },
  {
   "cell_type": "code",
   "execution_count": null,
   "id": "64ec3329",
   "metadata": {},
   "outputs": [],
   "source": [
    "# we make a new dataframe which is the subset of the dataset\n",
    "loan=df[loan_col]"
   ]
  },
  {
   "cell_type": "code",
   "execution_count": null,
   "id": "583ec073",
   "metadata": {},
   "outputs": [],
   "source": [
    "# we use the decribe function to see key statistical values for all numerical variables\n",
    "loan.describe()"
   ]
  },
  {
   "cell_type": "code",
   "execution_count": null,
   "id": "249530b3",
   "metadata": {
    "scrolled": false
   },
   "outputs": [],
   "source": [
    "# We observe the first 5 rows of the new dataset\n",
    "loan.head()"
   ]
  },
  {
   "cell_type": "markdown",
   "id": "b41762ba",
   "metadata": {},
   "source": [
    "### What is the structure of your dataset?\n",
    "\n",
    "> This dataset conatins (113937 rows and 81 columns. The columns contain the vaariables that could contibute to the Loan Status\n",
    "\n",
    "### What is/are the main feature(s) of interest in your dataset?\n",
    "\n",
    "> The interst we want to focus on is understanding what affects the Loan Original Amount that the Borrowers Demand. We also hope to gain insight into facteors that affect the Borrowers annual Percentage Rate\n",
    " \n",
    "        \n",
    "\n",
    "### What features in the dataset do you think will help support your investigation into your feature(s) of interest?\n",
    "\n",
    "> The Features we will be using to support this inference include:\n",
    "* Loan Original Amount\n",
    "* BorrowerAPR\n",
    "* Stated Monthly Income\n",
    "* Term\n",
    "* Prosper Rating (Alpha)', \n",
    "* Employment Status\n",
    "* Occupation\n",
    "* BorrowerRate\n",
    "* LoanStatus\n",
    "\n",
    "> #### Note: for the sake of limited time we will not draw insight from all variables though they will all have some insghts that could be observed."
   ]
  },
  {
   "cell_type": "markdown",
   "id": "b43bd20e",
   "metadata": {},
   "source": [
    "## Univariate Exploration\n"
   ]
  },
  {
   "cell_type": "markdown",
   "id": "24b826b9",
   "metadata": {},
   "source": [
    "### Insight on Employment status"
   ]
  },
  {
   "cell_type": "code",
   "execution_count": null,
   "id": "00b98f9b",
   "metadata": {
    "scrolled": false
   },
   "outputs": [],
   "source": [
    "def employ():\n",
    "    plt.figure(figsize=(8,6))\n",
    "    color=sns.color_palette()[1]\n",
    "    sns.countplot(data=loan, x='EmploymentStatus', color=color)\n",
    "    plt.xticks(rotation=90)\n",
    "    plt.title('Count of Employment Status')\n",
    "    \n",
    "employ()"
   ]
  },
  {
   "cell_type": "markdown",
   "id": "f5dc073c",
   "metadata": {},
   "source": [
    "#### Observation\n",
    "> We observe that those that are *Employed* have the highest count, which is followed by the Full-time. This could be as a result of the salary they have which could serve as colateral"
   ]
  },
  {
   "cell_type": "code",
   "execution_count": null,
   "id": "90c928bd",
   "metadata": {},
   "outputs": [],
   "source": [
    "loan.Occupation.value_counts()"
   ]
  },
  {
   "cell_type": "markdown",
   "id": "d17a8e25",
   "metadata": {},
   "source": [
    "### Insights from the Loan Original Amount"
   ]
  },
  {
   "cell_type": "code",
   "execution_count": null,
   "id": "16aa5389",
   "metadata": {
    "scrolled": true
   },
   "outputs": [],
   "source": [
    "def loanamount():\n",
    "    plt.figure(figsize=(10,8))\n",
    "    color=sns.color_palette()[1]\n",
    "    plt.hist(data=loan, x='LoanOriginalAmount', color=color)\n",
    "    plt.xticks(rotation=90)\n",
    "    plt.title('Count of Employment Status')\n",
    "    \n",
    "loanamount()"
   ]
  },
  {
   "cell_type": "markdown",
   "id": "9622d476",
   "metadata": {},
   "source": [
    "#### Observation\n",
    "> This was a rough analysis of the the Original amount that was loaned to each Borrower, but is better interpreted below"
   ]
  },
  {
   "cell_type": "code",
   "execution_count": null,
   "id": "fb912edb",
   "metadata": {},
   "outputs": [],
   "source": [
    "log_binsize = 0.05\n",
    "bins_log = 10 ** np.arange(3, np.log10(loan['LoanOriginalAmount'].max())+log_binsize, log_binsize)\n",
    "plt.hist(data = loan, x = 'LoanOriginalAmount', bins = bins_log)\n",
    "plt.xscale('log')\n",
    "x_ticks = [1000, 2000, 3000, 4000, 5000, 10000, 15000,20000, 30000]\n",
    "x_ticks_names = ['1k','2k', '3k', '4k', '5k', '10k','15k', '20k','30k']\n",
    "plt.xticks(x_ticks, x_ticks_names)\n",
    "plt.xlim((1000,35000))\n",
    "plt.xlabel('Loan Original Amount ($)')\n",
    "plt.title('Distribution of Loan Original Amount ($)');"
   ]
  },
  {
   "cell_type": "markdown",
   "id": "cc4ad328",
   "metadata": {},
   "source": [
    "#### Observation\n",
    "\n",
    "> we discover that most of the Borrowers Collected money in multiples of five(5). This is may be due to the normal human idea mentality for easy remembring of the amount borrowed,"
   ]
  },
  {
   "cell_type": "markdown",
   "id": "2d0720cb",
   "metadata": {},
   "source": [
    "### Insights from the Time Frame(Month) to pay the total money borrrowed "
   ]
  },
  {
   "cell_type": "code",
   "execution_count": null,
   "id": "8231c329",
   "metadata": {
    "scrolled": true
   },
   "outputs": [],
   "source": [
    "def term():\n",
    "    #plt.figure(figsize=(8,7))\n",
    "    color=sns.color_palette()[1]\n",
    "    sns.countplot(data=loan, x='Term', color=color)\n",
    "    plt.xticks(rotation=90)\n",
    "    plt.title('Count of Length of Term(Month)')\n",
    "    \n",
    "term()"
   ]
  },
  {
   "cell_type": "markdown",
   "id": "bcd540f7",
   "metadata": {},
   "source": [
    "#### Observation \n",
    "\n",
    "> Its observed that majority of the borrrowers settled to pay the money within 3 years, this may be because of the Employment status of each borrower it could have been easier to pay within 3 years than one year but making it five(5) year will also include extra cost for intrest."
   ]
  },
  {
   "cell_type": "markdown",
   "id": "8fd76613",
   "metadata": {},
   "source": [
    "### Insights from the Prosper Rating (Alpha)"
   ]
  },
  {
   "cell_type": "code",
   "execution_count": null,
   "id": "2103e4a4",
   "metadata": {
    "scrolled": true
   },
   "outputs": [],
   "source": [
    "def prosper():\n",
    "    plt.figure(figsize=(10,8))\n",
    "    base_color=sns.color_palette()[1]\n",
    "    sns.countplot(data=loan, x='ProsperRating (Alpha)', color=base_color)\n",
    "    plt.xticks(rotation=90)\n",
    "    plt.title('Count of Employment Status')\n",
    "    \n",
    "prosper()"
   ]
  },
  {
   "cell_type": "markdown",
   "id": "c10b3a48",
   "metadata": {},
   "source": [
    "#### Observation\n",
    "\n",
    "> Notes: It is observed that Prosper Rating of C has the maximum number of borrowers thid is followed by B, A and D in that order"
   ]
  },
  {
   "cell_type": "markdown",
   "id": "50bbd97e",
   "metadata": {},
   "source": [
    "### Insights into Occupation"
   ]
  },
  {
   "cell_type": "code",
   "execution_count": null,
   "id": "21760850",
   "metadata": {},
   "outputs": [],
   "source": [
    "# creating the text variable\n",
    "text1 = loan.loc[:, 'Occupation'].str.cat(others=None, sep=' ')\n",
    "# Creating word_cloud with text as argument in .generate() method\n",
    "\n",
    "word_cloud1 = WordCloud(collocations = False, background_color = 'white',\n",
    "                        width = 2048, height = 1080).generate(text1)\n",
    "# saving the image\n",
    "word_cloud1.to_file('map.png')\n",
    "\n",
    "# Display the generated Word Cloud\n",
    "plt.figure(figsize=(12,8))\n",
    "plt.imshow(word_cloud1, interpolation='bilinear')\n",
    "plt.axis(\"off\")\n",
    "plt.title('Statistics of Top Occupation')\n",
    "plt.show()"
   ]
  },
  {
   "cell_type": "markdown",
   "id": "ea813057",
   "metadata": {},
   "source": [
    "#### Onservations\n",
    "> Because of the differnt occupation by the borrowers it will be easier to use word cloud to get the occupation of most borrowers, they seem to be Professsionals, Computer Programmers and Executives"
   ]
  },
  {
   "cell_type": "markdown",
   "id": "21a6fad1",
   "metadata": {},
   "source": [
    "### Insights into Stated Monthly Income"
   ]
  },
  {
   "cell_type": "code",
   "execution_count": null,
   "id": "5083f611",
   "metadata": {
    "scrolled": false
   },
   "outputs": [],
   "source": [
    "# cateegorise the stated monthly income to better understand the data \n",
    "def classify(row):\n",
    "    if row[\"StatedMonthlyIncome\"]<1000:\n",
    "        return 'Low'\n",
    "    elif row[\"StatedMonthlyIncome\"]<4000:\n",
    "        return 'Lower-Middle'\n",
    "    elif row[\"StatedMonthlyIncome\"]<12000:\n",
    "        return 'Upper-Middle'\n",
    "    else:\n",
    "        return 'High'\n",
    "    \n",
    "loan['WageGroup'] = loan.apply(classify, axis=1)\n",
    "\n",
    "wage_cat = ['Low', 'Lower-Middle','Upper-Middle', 'High']\n",
    "order_wage = pd.api.types.CategoricalDtype(ordered = True, categories = wage_cat)\n",
    "loan['WageGroup'] = loan['WageGroup'].astype(order_wage)\n",
    "\n",
    "color=sns.color_palette()[1]\n",
    "sns.countplot(data = loan, x = 'WageGroup', color = color);\n",
    "plt.title('Borrowers Monthly Income($) Category ')\n",
    "plt.xlabel('Income Category')\n",
    "plt.ylabel('Amount($)')"
   ]
  },
  {
   "cell_type": "markdown",
   "id": "77399fb2",
   "metadata": {},
   "source": [
    "#### Observation\n",
    ">Notes: we Observe after categorising the income amount that majority are either upper-middle or Lower-Middle Income earners."
   ]
  },
  {
   "cell_type": "code",
   "execution_count": null,
   "id": "7001969a",
   "metadata": {},
   "outputs": [],
   "source": []
  },
  {
   "cell_type": "markdown",
   "id": "531f20aa",
   "metadata": {},
   "source": [
    "### Insight into Borrowwer APR "
   ]
  },
  {
   "cell_type": "code",
   "execution_count": null,
   "id": "943ab42d",
   "metadata": {
    "scrolled": true
   },
   "outputs": [],
   "source": [
    "bins = np.arange(0, loan['BorrowerAPR'].max()+0.01, 0.01)\n",
    "plt.hist(data = loan, x = 'BorrowerAPR', bins=bins);\n",
    "plt.title('Count of Borrowers APR')\n",
    "plt.xlabel('Borrower APR')\n",
    "plt.ylabel('count')"
   ]
  },
  {
   "cell_type": "markdown",
   "id": "31fe8940",
   "metadata": {},
   "source": [
    "#### Observation\n",
    "> Notes: We observe that the histogram is skewed to the right with an outlier at 0.35 which may be error"
   ]
  },
  {
   "cell_type": "markdown",
   "id": "9d4ef9c0",
   "metadata": {},
   "source": [
    "### Insight into Loan Status"
   ]
  },
  {
   "cell_type": "code",
   "execution_count": null,
   "id": "d3ce03cb",
   "metadata": {},
   "outputs": [],
   "source": [
    "# we categorise all past due dates together since all is past \n",
    "loan['LoanStatus'] = loan['LoanStatus'].apply(lambda x: x if 'Past Due' not in x else 'Past Due')\n",
    "\n",
    "status_list = ['Defaulted','Chargedoff', 'Past Due', 'Current', 'FinalPaymentInProgress', 'Completed']\n",
    "\n",
    "loan_status_ordering = pd.api.types.CategoricalDtype(ordered = True, categories = status_list)\n",
    "\n",
    "loan['LoanStatus'] = loan['LoanStatus'].astype(loan_status_ordering)\n",
    "\n",
    "\n",
    "status_count=loan['LoanStatus'].value_counts()\n",
    "status_order=status_count.index\n",
    "\n",
    "base_color = sns.color_palette()[1]\n",
    "sns.countplot(data=loan, x='LoanStatus', color=base_color, order=status_order);\n",
    "plt.title('Count of borrowers loan status ')\n",
    "\n",
    "# get the current tick locations and labels\n",
    "locs, labels = plt.xticks(rotation=90) \n"
   ]
  },
  {
   "cell_type": "markdown",
   "id": "d5e2850a",
   "metadata": {},
   "source": [
    "#### Observation\n",
    "> Notes: It is observed that majority of them are Currently still owe and a good percentage also have completed their payment. This is good since with that will prevent bankrupcy"
   ]
  },
  {
   "cell_type": "markdown",
   "id": "a85321cb",
   "metadata": {},
   "source": [
    "## Bivariate Analysis"
   ]
  },
  {
   "cell_type": "markdown",
   "id": "b915eb21",
   "metadata": {},
   "source": [
    "### Insight into the Term and original amount loan to them"
   ]
  },
  {
   "cell_type": "code",
   "execution_count": null,
   "id": "a0562eee",
   "metadata": {},
   "outputs": [],
   "source": [
    "# plot boxplot\n",
    "plt.figure(figsize = [8,5])\n",
    "sns.boxplot(data = loan, x = 'Term', y = 'LoanOriginalAmount' ,color = color);\n",
    "plt.title('Term Vs Loan Original Amount')\n",
    "plt.ylabel('Loan Amount($)')\n",
    "plt.xlabel('Term')"
   ]
  },
  {
   "cell_type": "markdown",
   "id": "9c13eb9a",
   "metadata": {},
   "source": [
    "#### Observation\n",
    "> Notes: The higher the term the higher the amount, it is also seen that the median of the three years duration is same as the maximum amount for the duration of one year, also there are outliers that make the maximum for each of the term"
   ]
  },
  {
   "cell_type": "markdown",
   "id": "034217d1",
   "metadata": {},
   "source": [
    "### Insights of Borrower Rate with Employment Status, Prosper Rating and Wage Group"
   ]
  },
  {
   "cell_type": "code",
   "execution_count": null,
   "id": "a6bd3c76",
   "metadata": {},
   "outputs": [],
   "source": [
    "#define boxgrid function\n",
    "def boxgrid(x, y, **kwargs):\n",
    "    base_color = sns.color_palette()[1]\n",
    "    sns.boxplot(x, y, color = base_color)\n",
    "    plt.xticks(rotation=90);\n",
    "\n",
    "\n",
    "g = sns.PairGrid(data = loan, y_vars = ['BorrowerRate'], x_vars = ['EmploymentStatus','ProsperRating (Alpha)','WageGroup'],\n",
    "                size = 3, aspect = 1.5);\n",
    "g.map(boxgrid);\n",
    "plt.suptitle(' Borrower APR Vs Employment Status,Prosper Rating(Alpha), Wage Group')"
   ]
  },
  {
   "cell_type": "markdown",
   "id": "a7382108",
   "metadata": {},
   "source": [
    "#### Observation\n",
    "> Notes:\n",
    "* Those having some source of employment seems to have the same range in Borrowers Rate whille those without employment have a higher rate\n",
    "* Prosper Rating has as the Prosper rating increase there is a corresonding reduction in the Borrower rate\n",
    "* A decrease in the Wage group income leads to a corresponding decrease in the Borrower rate"
   ]
  },
  {
   "cell_type": "markdown",
   "id": "5f7f1bb7",
   "metadata": {},
   "source": [
    "### Insights into the Loan original amount from Employment,Prosper Rating and Wage Group"
   ]
  },
  {
   "cell_type": "code",
   "execution_count": null,
   "id": "7efb8e5d",
   "metadata": {},
   "outputs": [],
   "source": [
    "#define boxgrid function\n",
    "def boxgrid(x, y, **kwargs):\n",
    "    base_color = sns.color_palette()[1]\n",
    "    sns.boxplot(x, y, color = base_color)\n",
    "    plt.xticks(rotation=90);\n",
    "\n",
    "\n",
    "g = sns.PairGrid(data = loan, y_vars = ['LoanOriginalAmount'], x_vars = ['EmploymentStatus','ProsperRating (Alpha)','WageGroup'],\n",
    "                size = 3, aspect = 1.5);\n",
    "g.map(boxgrid);\n",
    "plt.ylabel('Loan Amount')\n",
    "plt.suptitle('Loan Amount Vs Employment Status,Prosper Rating(Alpha), Wage Group')"
   ]
  },
  {
   "cell_type": "markdown",
   "id": "b698d08d",
   "metadata": {},
   "source": [
    "#### Observation\n",
    "> Notes:\n",
    "* Those employed seem to collect more loan than other this is no suprise because of the steady source of income it give them the assurance of ability to pay, unlike the retiree and not-employed who also collect just small amount this will be to settle little matters.\n",
    "* It is observed that those with high prosper rating also borrowed bigger amount\n",
    "* It is worthy of note that the greater the borrowers Wage/Salary the greater the amount borrowed."
   ]
  },
  {
   "cell_type": "markdown",
   "id": "d66f7186",
   "metadata": {},
   "source": [
    "### Insight into the correlation between each quantities"
   ]
  },
  {
   "cell_type": "code",
   "execution_count": null,
   "id": "ba3e0600",
   "metadata": {},
   "outputs": [],
   "source": [
    "sns.heatmap(loan.corr(), annot = True, fmt = '.3f',\n",
    "           cmap = 'YlGnBu', center=0)\n",
    "plt.title('Correlation Between each quantities')\n",
    "plt.show()"
   ]
  },
  {
   "cell_type": "markdown",
   "id": "69de7235",
   "metadata": {},
   "source": [
    "#### Observations\n",
    ">Notes: with regards to Loan original amount; The Term has a postive correlation and further study on its contribution will be important. While with regards to BorrowerAPR there is a strong positive correlation of about 0.99"
   ]
  },
  {
   "cell_type": "markdown",
   "id": "446b80c9",
   "metadata": {},
   "source": [
    "### Insight into The Loan Status with Term, and wage group"
   ]
  },
  {
   "cell_type": "code",
   "execution_count": null,
   "id": "64cfb367",
   "metadata": {},
   "outputs": [],
   "source": [
    "plt.figure(figsize = [10, 16])\n",
    "\n",
    "# subplot 1: Loan Status vs term\n",
    "plt.subplot(3, 1, 1)\n",
    "sns.countplot(data = loan, x = 'LoanStatus', hue = 'Term')\n",
    "plt.xticks(rotation=10)\n",
    "plt.xlabel('Loan Status')\n",
    "plt.title('Loan Status vs Term')\n",
    "# subplot 2: Employment Status vs Wage Group\n",
    "ax = plt.subplot(3, 1, 2)\n",
    "sns.countplot(data = loan, x = 'WageGroup', hue = 'Term')\n",
    "ax.legend(loc = 1, ncol = 2);\n",
    "# re-arrange legend to remove overlapping\n",
    "plt.xticks(rotation=10);\n",
    "plt.xlabel('Employment Status')\n",
    "#plt.title('Employment status vs Wage Group')"
   ]
  },
  {
   "cell_type": "markdown",
   "id": "e9190609",
   "metadata": {},
   "source": [
    "#### Observtion\n",
    ">Notes:\n",
    "   \n",
    "   * We discovered that those with one year term have completed theirs and also five(5) year term is more for the current loan status\n",
    "   * Also those of low income doesn't have much of the one year term this may be becuase of the monthly amount that will be collected. also unlike expected the high income earners didnt borrow over a five(5) year term."
   ]
  },
  {
   "cell_type": "markdown",
   "id": "fa65557b",
   "metadata": {},
   "source": [
    "### Insight into the Borrower APR and original amount"
   ]
  },
  {
   "cell_type": "code",
   "execution_count": null,
   "id": "8a285792",
   "metadata": {},
   "outputs": [],
   "source": [
    "plt.figure(figsize = [8, 6])\n",
    "sns.regplot(data = loan, x = 'LoanOriginalAmount', y = 'BorrowerAPR', scatter_kws={'alpha':0.01});\n",
    "plt.title('Correlation Between BorrowerAPR and Loan Original Amount')\n",
    "plt.xlabel('Original Loan amount($)')\n",
    "plt.ylabel('Borrower APR')"
   ]
  },
  {
   "cell_type": "markdown",
   "id": "f6795cf8",
   "metadata": {},
   "source": [
    "#### Observation\n",
    "\n",
    "> Notes:\n",
    "    It is observed that it is negatively correlated that is a decrease in the loan amount leads to an increase in the BorrowerAPR"
   ]
  },
  {
   "cell_type": "markdown",
   "id": "4991c1d1",
   "metadata": {},
   "source": [
    "## Multivariate"
   ]
  },
  {
   "cell_type": "markdown",
   "id": "315891ab",
   "metadata": {},
   "source": [
    "### Insight into the Wage Group Loan Amount and Term"
   ]
  },
  {
   "cell_type": "code",
   "execution_count": null,
   "id": "9704fad0",
   "metadata": {},
   "outputs": [],
   "source": [
    "# we plot a line graph of wage group and loan amount against the Term\n",
    "plt.figure(figsize=(10,10))\n",
    "g=sns.lineplot(data=loan, x='WageGroup', y='LoanOriginalAmount', hue='Term',ci=None);\n",
    "plt.title('Wage Group Vs Loan Original Amount Vs Term')\n",
    "plt.ylabel('Loan Amount($)')\n",
    "plt.xlabel('Wage Group')"
   ]
  },
  {
   "cell_type": "markdown",
   "id": "c89affc8",
   "metadata": {},
   "source": [
    "#### Observation\n",
    "\n",
    "\n",
    "> Notes: Its observed that those with higher term also borrow higher amount and also the higher the borrowers income the higher the term and the higher the amount borrowed, this should be because of the collateral they have."
   ]
  },
  {
   "cell_type": "markdown",
   "id": "50bcf083",
   "metadata": {},
   "source": [
    "### Insights into the Wage Group,Borrowerr APR and Term "
   ]
  },
  {
   "cell_type": "code",
   "execution_count": null,
   "id": "d27046a6",
   "metadata": {
    "scrolled": false
   },
   "outputs": [],
   "source": [
    "#plot boxplot\n",
    "plt.figure(figsize = [8,5])\n",
    "sns.boxplot(data = loan, x = 'WageGroup', y = 'BorrowerAPR',hue = 'Term' ,color = color);\n",
    "plt.title('Wage Group Vs BorrowerAPR Vs Term')"
   ]
  },
  {
   "cell_type": "markdown",
   "id": "289374dc",
   "metadata": {},
   "source": [
    "#### Observation\n",
    "\n",
    ">Notes: we observed that the borrower APR was higher for a year than for other term. Also the three year term has the highest borrower APR"
   ]
  },
  {
   "cell_type": "markdown",
   "id": "b7c5c0b8",
   "metadata": {},
   "source": [
    "### Insight into the loan status,Stated monthly income and the loan original amount"
   ]
  },
  {
   "cell_type": "code",
   "execution_count": null,
   "id": "da6e5ff7",
   "metadata": {},
   "outputs": [],
   "source": [
    "sedan_classes = ['Defaulted', 'Chargedoff', 'Past Due', 'Current', 'FinalPaymentInProgress','Completed']\n",
    "pd_ver = pd.__version__.split(\".\")\n",
    "if (int(pd_ver[0]) > 0) or (int(pd_ver[1]) >= 21): # v0.21 or later\n",
    "    LoanStatuses = pd.api.types.CategoricalDtype(ordered = True, categories = sedan_classes)\n",
    "    loan['LoanStatus'] = loan['LoanStatus'].astype(LoanStatuses)\n",
    "else: # compatibility for v.20\n",
    "    loan['LoanStatus'] = loan['LoanStatus'].astype('category', ordered = True, categories = sedan_classes)\n",
    "  # plotting\n",
    "g = sns.FacetGrid(data = loan, col = 'LoanStatus', size = 4, col_wrap = 3)\n",
    "g.map(plt.scatter, 'StatedMonthlyIncome','LoanOriginalAmount', alpha = 1/5)\n"
   ]
  },
  {
   "cell_type": "markdown",
   "id": "adbf0bad",
   "metadata": {},
   "source": [
    "#### Observation\n",
    "> Notes:we discovered that those who are currently paying the money borrowed borrow the highest mount, also those that are defaulters seems to owe for long hence the amount borrowed. Also those the arc are thinner for tose in final payment in progress this is because not many persons are in this category."
   ]
  },
  {
   "cell_type": "markdown",
   "id": "448e5936",
   "metadata": {},
   "source": [
    "### Reference\n",
    "* https://blogs.worldbank.org/opendata/new-world-bank-country-classifications-income-level-2020-2021"
   ]
  },
  {
   "cell_type": "code",
   "execution_count": null,
   "id": "c412aa8d",
   "metadata": {},
   "outputs": [],
   "source": []
  }
 ],
 "metadata": {
  "kernelspec": {
   "display_name": "Python 3 (ipykernel)",
   "language": "python",
   "name": "python3"
  },
  "language_info": {
   "codemirror_mode": {
    "name": "ipython",
    "version": 3
   },
   "file_extension": ".py",
   "mimetype": "text/x-python",
   "name": "python",
   "nbconvert_exporter": "python",
   "pygments_lexer": "ipython3",
   "version": "3.9.7"
  }
 },
 "nbformat": 4,
 "nbformat_minor": 5
}
