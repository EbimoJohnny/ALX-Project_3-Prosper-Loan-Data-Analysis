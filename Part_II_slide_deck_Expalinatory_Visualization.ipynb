{
 "cells": [
  {
   "cell_type": "markdown",
   "metadata": {
    "slideshow": {
     "slide_type": "slide"
    }
   },
   "source": [
    "# Part II - Factors Contributing to Borrowers APR and amount borrowed\n",
    "\n",
    "## by Johnny Samuel"
   ]
  },
  {
   "cell_type": "markdown",
   "metadata": {
    "slideshow": {
     "slide_type": "slide"
    }
   },
   "source": [
    "## Investigation Overview\n",
    "\n",
    "\n",
    "> Prosper Loan is an organisation that seeks to provide loan for it's customers are a certain rate. We hope to use the data of each borrower to understand the factors that may have contributed to the present status of each borrower. This is aimed at analysing the factors that could affect the borrowers APR and the original amount that was given to the borrower.\n",
    "\n"
   ]
  },
  {
   "cell_type": "markdown",
   "metadata": {
    "slideshow": {
     "slide_type": "slide"
    }
   },
   "source": [
    "\n",
    "## Dataset Overview\n",
    "\n",
    "> This data set contains 113,937 loans with 81 variables on each loan, including loan amount, borrower rate (or interest rate), current loan status, borrower income, and many others.\n",
    "\n",
    "It is worthy of note that we have time as a limitation which will not permit us to analyse all the the columns listed. Our focus will be on the borrowers APR and  Borrowers status"
   ]
  },
  {
   "cell_type": "code",
   "execution_count": null,
   "metadata": {
    "slideshow": {
     "slide_type": "skip"
    }
   },
   "outputs": [],
   "source": [
    "# import all packages and set plots to be embedded inline\n",
    "import numpy as np\n",
    "import pandas as pd\n",
    "import matplotlib.pyplot as plt\n",
    "import seaborn as sns\n",
    "from PIL import Image\n",
    "from wordcloud import WordCloud, STOPWORDS, ImageColorGenerator\n",
    "\n",
    "%matplotlib inline\n",
    "\n",
    "# suppress warnings from final output\n",
    "import warnings\n",
    "warnings.simplefilter(\"ignore\")"
   ]
  },
  {
   "cell_type": "code",
   "execution_count": null,
   "metadata": {
    "slideshow": {
     "slide_type": "skip"
    }
   },
   "outputs": [],
   "source": [
    "# load in the dataset into a pandas dataframe\n",
    "df=pd.read_csv('prosperLoanData.csv',encoding='ISO-8859-1')\n",
    "# Subset the dataframe by selecting features of interest\n",
    "loan_col=['LoanOriginalAmount', 'BorrowerAPR', 'StatedMonthlyIncome', 'Term', 'ProsperRating (Alpha)', \n",
    "        'EmploymentStatus','Occupation','BorrowerRate','LoanStatus']\n",
    "loan = df[loan_col]\n",
    "# data wrangling, remove loans with missing borrower APR information\n",
    "loan_new = loan.dropna(subset=['BorrowerAPR'])\n",
    "# Catogorising of ProsperRating and Employment status\n",
    "rate_order = ['AA','A','B','C','D','E','HR']\n",
    "ordered_var = pd.api.types.CategoricalDtype(ordered = True,\n",
    "                                    categories = rate_order)\n",
    "loan_new['ProsperRating (Alpha)'] = loan_new['ProsperRating (Alpha)'].astype(ordered_var)\n",
    "\n",
    "emp_order = ['Employed','Self-employed','Full-time','Part-time','Retired','Other','Not employed', 'Not available']\n",
    "ordered_var = pd.api.types.CategoricalDtype(ordered = True,\n",
    "                                    categories = emp_order)\n",
    "loan_new['EmploymentStatus'] = loan_new['EmploymentStatus'].astype(ordered_var)\n",
    "loan_new.shape"
   ]
  },
  {
   "cell_type": "code",
   "execution_count": null,
   "metadata": {
    "slideshow": {
     "slide_type": "skip"
    }
   },
   "outputs": [],
   "source": [
    "# categorise the stated monthly income to better understand the data \n",
    "def classify(row):\n",
    "    if row[\"StatedMonthlyIncome\"]<1000:\n",
    "        return 'Low'\n",
    "    elif row[\"StatedMonthlyIncome\"]<4000:\n",
    "        return 'Lower-Middle'\n",
    "    elif row[\"StatedMonthlyIncome\"]<12000:\n",
    "        return 'Upper-Middle'\n",
    "    else:\n",
    "        return 'High'\n",
    "    \n",
    "loan_new['WageGroup'] = loan_new.apply(classify, axis=1)\n",
    "\n",
    "wage_order = ['Low', 'Lower-Middle','Upper-Middle', 'High']\n",
    "wage_cat = pd.api.types.CategoricalDtype(ordered = True, categories = wage_order)\n",
    "loan_new['WageGroup'] = loan_new['WageGroup'].astype(wage_cat)"
   ]
  },
  {
   "cell_type": "markdown",
   "metadata": {
    "slideshow": {
     "slide_type": "slide"
    }
   },
   "source": [
    "## Insight into Borrower APR\n",
    "\n",
    "We observe that the histogram is skewed to the right with an outlier at 0.35 which may be error"
   ]
  },
  {
   "cell_type": "code",
   "execution_count": null,
   "metadata": {
    "slideshow": {
     "slide_type": "subslide"
    }
   },
   "outputs": [],
   "source": [
    "bins = np.arange(0, loan['BorrowerAPR'].max()+0.01, 0.01)\n",
    "plt.hist(data = loan, x = 'BorrowerAPR', bins=bins);\n",
    "plt.title('Count of Borrowers APR')\n",
    "plt.xlabel('Borrower APR')\n",
    "plt.ylabel('count')"
   ]
  },
  {
   "cell_type": "markdown",
   "metadata": {
    "slideshow": {
     "slide_type": "slide"
    }
   },
   "source": [
    "## Loan Original Amount Vs Borrower APR\n",
    "\n",
    "\n",
    "> It is observed that it is negatively correlated that is a decrease in the loan amount leads to an increase in the BorrowerAPR"
   ]
  },
  {
   "cell_type": "code",
   "execution_count": null,
   "metadata": {
    "slideshow": {
     "slide_type": "subslide"
    }
   },
   "outputs": [],
   "source": [
    "plt.figure(figsize = [8, 6])\n",
    "sns.regplot(data = loan_new, x = 'LoanOriginalAmount', y = 'BorrowerAPR', scatter_kws={'alpha':0.01});\n",
    "plt.title('Correlation Between BorrowerAPR and Loan Original Amount')\n",
    "plt.xlabel('Original Loan amount')\n",
    "plt.ylabel('Borrower APR')"
   ]
  },
  {
   "cell_type": "markdown",
   "metadata": {
    "collapsed": true,
    "slideshow": {
     "slide_type": "slide"
    }
   },
   "source": [
    "### Relationship of Borrower Rate with Employment Status, Prosper Rating and Wage Group\n",
    "\n",
    "* Those having some source of employment seems to have the same range in Borrowers Rate whille those without employment have a higher rate\n",
    "* Prosper Rating has as the Prosper rating increase there is a corresonding reduction in the Borrower rate\n",
    "* A decrease in the Wage group income leads to a corresponding decrease in the Borrower rate"
   ]
  },
  {
   "cell_type": "code",
   "execution_count": null,
   "metadata": {
    "slideshow": {
     "slide_type": "subslide"
    }
   },
   "outputs": [],
   "source": [
    "# We use  sample of 2000 which  makes the analysis faster\n",
    "df_samp = loan.sample(2000, replace=False)\n",
    "\n",
    "#defining boxgrid function\n",
    "def boxgrid(x, y, **kwargs):\n",
    "    default_color = sns.color_palette()[0]\n",
    "    sns.boxplot(x, y, color = default_color)\n",
    "    plt.xticks(rotation=90);\n",
    "\n",
    "\n",
    "g = sns.PairGrid(data = loan_new, y_vars = ['BorrowerRate'], x_vars = ['EmploymentStatus','ProsperRating (Alpha)','WageGroup'],\n",
    "                size = 3, aspect = 1.5);\n",
    "g.map(boxgrid);\n"
   ]
  },
  {
   "cell_type": "markdown",
   "metadata": {
    "slideshow": {
     "slide_type": "slide"
    }
   },
   "source": [
    "### Relationship Between  Wage Group, Original Loan Amount and Term\n",
    "\n",
    "\n",
    "> Its observed that those with higher term also borrow higher amount and also the higher the borrowers income the higher the term and the higher the amount borrowed, this should be because of the collateral they have."
   ]
  },
  {
   "cell_type": "code",
   "execution_count": null,
   "metadata": {
    "slideshow": {
     "slide_type": "subslide"
    }
   },
   "outputs": [],
   "source": [
    "# we plot a line graph of wage group and loan amount against the Term\n",
    "plt.figure(figsize=(10,10))\n",
    "g=sns.violinplot(data=loan_new, x='WageGroup', y='LoanOriginalAmount', hue='Term',ci=None);"
   ]
  },
  {
   "cell_type": "code",
   "execution_count": null,
   "metadata": {
    "slideshow": {
     "slide_type": "skip"
    }
   },
   "outputs": [],
   "source": [
    "# Use this command if you are running this file in local\n",
    "!jupyter nbconvert Part_II_slide_deck_Expalinatory_Visualization.ipynb --to slides --post serve --no-input --no-prompt"
   ]
  }
 ],
 "metadata": {
  "celltoolbar": "Slideshow",
  "kernelspec": {
   "display_name": "Python 3 (ipykernel)",
   "language": "python",
   "name": "python3"
  },
  "language_info": {
   "codemirror_mode": {
    "name": "ipython",
    "version": 3
   },
   "file_extension": ".py",
   "mimetype": "text/x-python",
   "name": "python",
   "nbconvert_exporter": "python",
   "pygments_lexer": "ipython3",
   "version": "3.9.7"
  }
 },
 "nbformat": 4,
 "nbformat_minor": 2
}
